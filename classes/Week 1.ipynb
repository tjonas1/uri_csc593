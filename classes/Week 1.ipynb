{
 "cells": [
  {
   "cell_type": "markdown",
   "metadata": {},
   "source": [
    "# CSC 593\n",
    "## Week 1"
   ]
  },
  {
   "cell_type": "markdown",
   "metadata": {},
   "source": [
    "### Introduction"
   ]
  },
  {
   "cell_type": "markdown",
   "metadata": {},
   "source": [
    "#### Command-Line Interfaces\n",
    "\n",
    "**PowerShell** (Windows): https://programminghistorian.org/en/lessons/intro-to-powershell  \n",
    "**`bash`** (Mac/Linux): https://programminghistorian.org/en/lessons/intro-to-bash"
   ]
  },
  {
   "cell_type": "markdown",
   "metadata": {},
   "source": [
    "#### Python"
   ]
  },
  {
   "cell_type": "code",
   "execution_count": 2,
   "metadata": {},
   "outputs": [
    {
     "name": "stdout",
     "output_type": "stream",
     "text": [
      "Hello\n"
     ]
    }
   ],
   "source": [
    "x = \"Hello\"\n",
    "print(x)"
   ]
  },
  {
   "cell_type": "markdown",
   "metadata": {},
   "source": [
    "#### Jupyter\n",
    "\n",
    "Jupyter allows you to create \"notebooks\" consisting of blocks which may contain Python code or text written in a format called \"Markdown\". This makes it possible to perform a data analysis and document code and describe the work being done in the same document.\n",
    "\n",
    "We'll be doing all of our development work in this class in Jupyter."
   ]
  },
  {
   "cell_type": "markdown",
   "metadata": {},
   "source": [
    "##### Markdown\n",
    "\n",
    "Markdown is a simple text-based markup language which can be converted to HTML or many other formats.\n",
    "\n",
    "A helpful cheatsheet is available at https://github.com/adam-p/markdown-here/wiki/Markdown-Cheatsheet."
   ]
  },
  {
   "cell_type": "markdown",
   "metadata": {},
   "source": [
    "#### Git\n",
    "\n",
    "Git is a version-control system: it's designed to manage changes to collections of information (*\"repositories\"*), primarily software. It's also intended to help development teams collaborate.\n",
    "\n",
    "##### Github\n",
    "\n",
    "[Github](https://github.com) provides hosting for Git repositories. We'll be storing our work there in this class."
   ]
  },
  {
   "cell_type": "markdown",
   "metadata": {},
   "source": [
    "### Student Introductions\n",
    "\n",
    "1. Program\n",
    "2. Background\n",
    "3. Dataset or field of interest"
   ]
  },
  {
   "cell_type": "markdown",
   "metadata": {},
   "source": [
    "### Installations\n",
    "\n",
    "(The links below are also in the syllabus)."
   ]
  },
  {
   "cell_type": "markdown",
   "metadata": {},
   "source": [
    "#### Anaconda\n",
    "\n",
    "Available from https://www.anaconda.com/distribution/."
   ]
  },
  {
   "cell_type": "markdown",
   "metadata": {},
   "source": [
    "#### Git\n",
    "\n",
    "Available from https://git-scm.com/download."
   ]
  },
  {
   "cell_type": "markdown",
   "metadata": {},
   "source": [
    "### Github"
   ]
  },
  {
   "cell_type": "markdown",
   "metadata": {},
   "source": [
    "Create a free (or optionally non-free) account at https://github.com.\n",
    "\n",
    "Fork https://github.com/atbradley/uri_csc593.\n",
    "\n",
    "Clone to your laptop (command line: `git clone <repository>`\n",
    "\n",
    "`cd` to the directory with the new clone.\n",
    "\n",
    "Add the original repository as a second remote: `git remote add instructor https://github.com/atbradley/uri_csc593`\n",
    "\n",
    "To update your repository later with new class notes and assignments: `git pull instructor master`.\n",
    "\n",
    "To submit an assignment: After saving the assignment notebook,  \n",
    "    `git commit -a -m 'Assignment X completed'`  \n",
    "    `git push` (First time you may need to `git push --set-upstream origin master`)"
   ]
  }
 ],
 "metadata": {
  "kernelspec": {
   "display_name": "Python 3",
   "language": "python",
   "name": "python3"
  },
  "language_info": {
   "codemirror_mode": {
    "name": "ipython",
    "version": 3
   },
   "file_extension": ".py",
   "mimetype": "text/x-python",
   "name": "python",
   "nbconvert_exporter": "python",
   "pygments_lexer": "ipython3",
   "version": "3.7.4"
  }
 },
 "nbformat": 4,
 "nbformat_minor": 4
}
