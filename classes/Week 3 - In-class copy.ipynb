{
 "cells": [
  {
   "cell_type": "markdown",
   "metadata": {},
   "source": [
    "# CSC 593"
   ]
  },
  {
   "cell_type": "markdown",
   "metadata": {},
   "source": [
    "## Week 3"
   ]
  },
  {
   "cell_type": "markdown",
   "metadata": {},
   "source": [
    "### Preliminary\n",
    "\n",
    "`git pull instructor master`"
   ]
  },
  {
   "cell_type": "markdown",
   "metadata": {},
   "source": [
    "### Review"
   ]
  },
  {
   "cell_type": "markdown",
   "metadata": {},
   "source": [
    "#### Homework\n",
    "\n",
    "##### 7. Loop over `string1` and print every other letter in it.\n",
    "\n",
    "There are (at least) three ways to do this:"
   ]
  },
  {
   "cell_type": "code",
   "execution_count": 2,
   "metadata": {},
   "outputs": [
    {
     "name": "stdout",
     "output_type": "stream",
     "text": [
      "A\n",
      "C\n",
      "E\n",
      "G\n",
      "I\n"
     ]
    }
   ],
   "source": [
    "mystring = 'ABCDEFGHIJ'\n",
    "\n",
    "# Use the third argument for the range() function\n",
    "for x in range(0, len(mystring), 2):\n",
    "    print(mystring[x])"
   ]
  },
  {
   "cell_type": "code",
   "execution_count": 3,
   "metadata": {},
   "outputs": [
    {
     "name": "stdout",
     "output_type": "stream",
     "text": [
      "A\n",
      "C\n",
      "E\n",
      "G\n",
      "I\n"
     ]
    }
   ],
   "source": [
    "# Use an if statement with the modulo operator\n",
    "for x in range(len(mystring)):\n",
    "    if x % 2 == 0:\n",
    "        print(mystring[x])"
   ]
  },
  {
   "cell_type": "code",
   "execution_count": 4,
   "metadata": {},
   "outputs": [
    {
     "name": "stdout",
     "output_type": "stream",
     "text": [
      "A\n",
      "C\n",
      "E\n",
      "G\n",
      "I\n"
     ]
    },
    {
     "data": {
      "text/plain": [
       "'DF'"
      ]
     },
     "execution_count": 4,
     "metadata": {},
     "output_type": "execute_result"
    }
   ],
   "source": [
    "# Subscripting\n",
    "for x in mystring[::2]:\n",
    "    print(x)\n",
    "\n",
    "mystring[3:7:2]"
   ]
  },
  {
   "cell_type": "markdown",
   "metadata": {},
   "source": [
    "#### Syntax and Style\n",
    "\n",
    "##### Subscripting sequences (lists, tuples, strings, etc.)\n",
    "\n",
    "Use square brackets:"
   ]
  },
  {
   "cell_type": "code",
   "execution_count": 158,
   "metadata": {},
   "outputs": [
    {
     "data": {
      "text/plain": [
       "'i'"
      ]
     },
     "execution_count": 158,
     "metadata": {},
     "output_type": "execute_result"
    }
   ],
   "source": [
    "mystring = 'This is a string.'\n",
    "mystring[5]"
   ]
  },
  {
   "cell_type": "code",
   "execution_count": 130,
   "metadata": {},
   "outputs": [
    {
     "data": {
      "text/plain": [
       "'string'"
      ]
     },
     "execution_count": 130,
     "metadata": {},
     "output_type": "execute_result"
    }
   ],
   "source": [
    "mystring[-7:-1]"
   ]
  },
  {
   "cell_type": "markdown",
   "metadata": {},
   "source": [
    "##### Calling functions\n",
    "\n",
    "Use parentheses:"
   ]
  },
  {
   "cell_type": "code",
   "execution_count": 131,
   "metadata": {},
   "outputs": [
    {
     "name": "stdout",
     "output_type": "stream",
     "text": [
      "Hello\n"
     ]
    },
    {
     "data": {
      "text/plain": [
       "range(5, 10, 2)"
      ]
     },
     "execution_count": 131,
     "metadata": {},
     "output_type": "execute_result"
    }
   ],
   "source": [
    "print('Hello')\n",
    "range(5, 10, 2)"
   ]
  },
  {
   "cell_type": "markdown",
   "metadata": {},
   "source": [
    "#### Spaces\n",
    "\n",
    "Aside from indentation in blocks of code (for example in `for` or `if` statements, Python largely doesn't care."
   ]
  },
  {
   "cell_type": "code",
   "execution_count": 132,
   "metadata": {},
   "outputs": [
    {
     "name": "stdout",
     "output_type": "stream",
     "text": [
      "yes\n",
      "This is a string.\n"
     ]
    }
   ],
   "source": [
    "if len(mystring) > 2:\n",
    "    # The next two lines have to have the same starting whitespace:\n",
    "    print('yes')\n",
    "    print(mystring)"
   ]
  },
  {
   "cell_type": "markdown",
   "metadata": {},
   "source": [
    "You can also put spaces some places you shouldn't, like between a variable and its subscript, or between a function and its arguments:"
   ]
  },
  {
   "cell_type": "code",
   "execution_count": 5,
   "metadata": {},
   "outputs": [
    {
     "data": {
      "text/plain": [
       "'F'"
      ]
     },
     "execution_count": 5,
     "metadata": {},
     "output_type": "execute_result"
    }
   ],
   "source": [
    "#Don't do this. It makes your code harder to read.\n",
    "mystring                    [5]"
   ]
  },
  {
   "cell_type": "code",
   "execution_count": 6,
   "metadata": {},
   "outputs": [
    {
     "data": {
      "text/plain": [
       "range(0, 4)"
      ]
     },
     "execution_count": 6,
     "metadata": {},
     "output_type": "execute_result"
    }
   ],
   "source": [
    "#Don't do this either.\n",
    "range (4)"
   ]
  },
  {
   "cell_type": "code",
   "execution_count": 7,
   "metadata": {},
   "outputs": [
    {
     "name": "stdout",
     "output_type": "stream",
     "text": [
      "DEFGHI\n"
     ]
    }
   ],
   "source": [
    "#This is a lot more readable\n",
    "print( mystring[-7:-1] )"
   ]
  },
  {
   "cell_type": "markdown",
   "metadata": {},
   "source": [
    "#### Lists\n",
    "\n"
   ]
  },
  {
   "cell_type": "code",
   "execution_count": 11,
   "metadata": {},
   "outputs": [
    {
     "data": {
      "text/plain": [
       "['This', 'is', 'a', 'string']"
      ]
     },
     "execution_count": 11,
     "metadata": {},
     "output_type": "execute_result"
    }
   ],
   "source": [
    "mystring2 = \"This is a string\"\n",
    "mylist = mystring2.split(' ')\n",
    "mylist"
   ]
  },
  {
   "cell_type": "code",
   "execution_count": 12,
   "metadata": {},
   "outputs": [
    {
     "data": {
      "text/plain": [
       "'a'"
      ]
     },
     "execution_count": 12,
     "metadata": {},
     "output_type": "execute_result"
    }
   ],
   "source": [
    "mylist[2]"
   ]
  },
  {
   "cell_type": "code",
   "execution_count": 13,
   "metadata": {},
   "outputs": [
    {
     "data": {
      "text/plain": [
       "['a', 'string']"
      ]
     },
     "execution_count": 13,
     "metadata": {},
     "output_type": "execute_result"
    }
   ],
   "source": [
    "mylist[2:4]"
   ]
  },
  {
   "cell_type": "markdown",
   "metadata": {},
   "source": [
    "#### Assignment and Operators"
   ]
  },
  {
   "cell_type": "code",
   "execution_count": 18,
   "metadata": {},
   "outputs": [
    {
     "name": "stdout",
     "output_type": "stream",
     "text": [
      "myint:  10\n"
     ]
    }
   ],
   "source": [
    "# Assignment operator: variable on the left.\n",
    "myint = 10\n",
    "print(\"myint: \", myint)"
   ]
  },
  {
   "cell_type": "code",
   "execution_count": 16,
   "metadata": {},
   "outputs": [
    {
     "ename": "SyntaxError",
     "evalue": "can't assign to literal (<ipython-input-16-391df3560ba5>, line 2)",
     "output_type": "error",
     "traceback": [
      "\u001b[1;36m  File \u001b[1;32m\"<ipython-input-16-391df3560ba5>\"\u001b[1;36m, line \u001b[1;32m2\u001b[0m\n\u001b[1;33m    10 = myint\u001b[0m\n\u001b[1;37m              ^\u001b[0m\n\u001b[1;31mSyntaxError\u001b[0m\u001b[1;31m:\u001b[0m can't assign to literal\n"
     ]
    }
   ],
   "source": [
    "# This is an error.\n",
    "10 = myint"
   ]
  },
  {
   "cell_type": "code",
   "execution_count": 19,
   "metadata": {},
   "outputs": [
    {
     "name": "stdout",
     "output_type": "stream",
     "text": [
      "ok\n",
      "ok\n"
     ]
    }
   ],
   "source": [
    "# Equality test: order doesn't matter.\n",
    "if 10 == myint:\n",
    "    print('ok')\n",
    "    \n",
    "if myint == 10:\n",
    "    print('ok')"
   ]
  },
  {
   "cell_type": "markdown",
   "metadata": {},
   "source": [
    "#### `if` and `for`"
   ]
  },
  {
   "cell_type": "code",
   "execution_count": 24,
   "metadata": {},
   "outputs": [
    {
     "name": "stdout",
     "output_type": "stream",
     "text": [
      "0\n",
      "hello\n",
      "1\n",
      "hello\n",
      "2\n",
      "hello\n",
      "3\n",
      "hello\n",
      "4\n",
      "hello\n"
     ]
    }
   ],
   "source": [
    "for x in range(5): \n",
    "    print(x)\n",
    "    print('hello')"
   ]
  },
  {
   "cell_type": "markdown",
   "metadata": {},
   "source": [
    "#### Dictionaries\n",
    "\n",
    "Similar to lists, but with keys instead of ordered indexes."
   ]
  },
  {
   "cell_type": "code",
   "execution_count": 25,
   "metadata": {},
   "outputs": [
    {
     "name": "stdout",
     "output_type": "stream",
     "text": [
      "{'John': 938477566, 'Jack': 938377264}\n",
      "938377264\n",
      "{'John': 938477566, 'Jack': 938377264, 'Jill': 947662781}\n"
     ]
    }
   ],
   "source": [
    "phonebook = {\n",
    "    \"John\" : 938477566,\n",
    "    \"Jack\" : 938377264,\n",
    "}\n",
    "print(phonebook)\n",
    "print(phonebook['Jack'])\n",
    "\n",
    "phonebook[\"Jill\"] = 947662781\n",
    "\n",
    "print(phonebook)"
   ]
  },
  {
   "cell_type": "code",
   "execution_count": 28,
   "metadata": {},
   "outputs": [
    {
     "data": {
      "text/plain": [
       "{'Jill': 947662781}"
      ]
     },
     "execution_count": 28,
     "metadata": {},
     "output_type": "execute_result"
    }
   ],
   "source": [
    "phonebook2 = {}\n",
    "\n",
    "phonebook2[\"Jill\"] = 947662781\n",
    "\n",
    "phonebook2"
   ]
  },
  {
   "cell_type": "markdown",
   "metadata": {},
   "source": [
    "##### Practice\n",
    "\n",
    "Here are a few citations taken from the [CORA dataset](http://www.cs.umass.edu/~mccallum/data/cora-ie.tar.gz); we'll be using them this week."
   ]
  },
  {
   "cell_type": "markdown",
   "metadata": {},
   "source": [
    "1. A. Cau, R. Kuiper, and W.-P. de Roever. Formalising Dijkstra's development strategy within Stark's formalism. In C. B. Jones, R. C. Shaw, and T. Denvir, editors, Proc. 5th. BCS-FACS Refinement Workshop, 1992.\n",
    "1. M. Kitsuregawa, H. Tanaka, and T. Moto-oka. Application of hash to data base machine and its architecture. New Generation Computing, 1(1), 1983.\n",
    "1. Marc Shapiro and Susan Horwitz. Fast and accurate flow-insensitive points-to analysis. In Proceedings of the 24th Annual ACM Symposium on Principles of Programming Languages, January 1997."
   ]
  },
  {
   "cell_type": "markdown",
   "metadata": {},
   "source": [
    "We can encode the first of these as a dictionary like this:"
   ]
  },
  {
   "cell_type": "code",
   "execution_count": 83,
   "metadata": {},
   "outputs": [
    {
     "name": "stdout",
     "output_type": "stream",
     "text": [
      "A. Cau, R. Kuiper, and W.-P. de Roever.\n"
     ]
    },
    {
     "data": {
      "text/plain": [
       "[{'author': 'A. Cau, R. Kuiper, and W.-P. de Roever.',\n",
       "  'title': \"Formalising Dijkstra's development strategy within Stark's formalism. \",\n",
       "  'journal': None,\n",
       "  'volume': None,\n",
       "  'number': None,\n",
       "  'book_title': 'Proc. 5th. BCS-FACS Refinement Workshop, ',\n",
       "  'date': '1992.'}]"
      ]
     },
     "execution_count": 83,
     "metadata": {},
     "output_type": "execute_result"
    }
   ],
   "source": [
    "citation = {\n",
    "    'author':             'A. Cau, R. Kuiper, and W.-P. de Roever.',\n",
    "    'title':              \"Formalising Dijkstra's development strategy within Stark's formalism. \",\n",
    "    'journal':            None,\n",
    "    'volume':             None,\n",
    "    'number':             None,\n",
    "    'book_title':         \"Proc. 5th. BCS-FACS Refinement Workshop, \",\n",
    "    'date':               \"1992.\"\n",
    "}\n",
    "\n",
    "print(citation['author'])\n",
    "\n",
    "citations = []\n",
    "citations.append(citation)\n",
    "citations"
   ]
  },
  {
   "cell_type": "markdown",
   "metadata": {},
   "source": [
    "Now, create dictionaries for the other two citations, using the same key names, and add them to the `citations` list."
   ]
  },
  {
   "cell_type": "code",
   "execution_count": 84,
   "metadata": {},
   "outputs": [
    {
     "data": {
      "text/plain": [
       "[{'author': 'A. Cau, R. Kuiper, and W.-P. de Roever.',\n",
       "  'title': \"Formalising Dijkstra's development strategy within Stark's formalism. \",\n",
       "  'journal': None,\n",
       "  'volume': None,\n",
       "  'number': None,\n",
       "  'book_title': 'Proc. 5th. BCS-FACS Refinement Workshop, ',\n",
       "  'date': '1992.'},\n",
       " {'author': 'M. Kitsuregawa, H. Tanaka, and T. Moto-oka. ',\n",
       "  'title': 'Application of hash to data base machine and its architecture. ',\n",
       "  'journal': 'New Generation Computing, ',\n",
       "  'volume': '1',\n",
       "  'number': '(1), ',\n",
       "  'book_title': None,\n",
       "  'date': '1983.'},\n",
       " {'author': 'Marc Shapiro and Susan Horwitz. ',\n",
       "  'title': 'Fast and accurate flow-insensitive points-to analysis. ',\n",
       "  'journal': None,\n",
       "  'volume': None,\n",
       "  'number': None,\n",
       "  'book_title': 'In Proceedings of the 24th Annual ACM Symposium on Principles of Programming Languages, ',\n",
       "  'date': 'January 1997.'}]"
      ]
     },
     "execution_count": 84,
     "metadata": {},
     "output_type": "execute_result"
    }
   ],
   "source": [
    "citation = {\n",
    "    'author':             'M. Kitsuregawa, H. Tanaka, and T. Moto-oka. ',\n",
    "    'title':              \"Application of hash to data base machine and its architecture. \",\n",
    "    'journal':            'New Generation Computing, ',\n",
    "    'volume':             '1',\n",
    "    'number':             '(1), ',\n",
    "    'book_title':         None,\n",
    "    'date':               \"1983.\"\n",
    "}\n",
    "\n",
    "citations.append(citation)\n",
    "\n",
    "citation = {\n",
    "    'author':             'Marc Shapiro and Susan Horwitz. ',\n",
    "    'title':              \"Fast and accurate flow-insensitive points-to analysis. \",\n",
    "    'journal':            None,\n",
    "    'volume':             None,\n",
    "    'number':             None,\n",
    "    'book_title':         'In Proceedings of the 24th Annual ACM Symposium on Principles of Programming Languages, ',\n",
    "    'date':               \"January 1997.\"\n",
    "}\n",
    "\n",
    "citations.append(citation)\n",
    "citations"
   ]
  },
  {
   "cell_type": "markdown",
   "metadata": {},
   "source": [
    "Lists and dictionaries are both essentially \"boxes\" that can contain other variables; they're just \"catalogued\" differently. Lists are ordered and use numeric keys; dictionaries just give their elements names. Both of them can store any kind of items, including other lists or dictionaries (lists can contain lists and dictionaries; dictionaries can also store lists and dictionaries)."
   ]
  },
  {
   "cell_type": "markdown",
   "metadata": {},
   "source": [
    "#### Functions"
   ]
  },
  {
   "cell_type": "markdown",
   "metadata": {},
   "source": [
    "We used a few functions, like `len()` and `range()` in the last class. \n",
    "\n",
    "We call functions by typing their name followed by parentheses. The parentheses may enclose one or more *arguments*."
   ]
  },
  {
   "cell_type": "code",
   "execution_count": 145,
   "metadata": {},
   "outputs": [
    {
     "data": {
      "text/plain": [
       "3"
      ]
     },
     "execution_count": 145,
     "metadata": {},
     "output_type": "execute_result"
    }
   ],
   "source": [
    "len(range(5,20,5))"
   ]
  },
  {
   "cell_type": "markdown",
   "metadata": {},
   "source": [
    "To create our own functions, we use the `def` statement:"
   ]
  },
  {
   "cell_type": "code",
   "execution_count": 47,
   "metadata": {},
   "outputs": [
    {
     "name": "stdout",
     "output_type": "stream",
     "text": [
      "Hello\n"
     ]
    }
   ],
   "source": [
    "def say_hello():\n",
    "    print('Hello')\n",
    "    \n",
    "say_hello()"
   ]
  },
  {
   "cell_type": "markdown",
   "metadata": {},
   "source": [
    "To use the arguments in our functions, we can treat them as variables in the function's body."
   ]
  },
  {
   "cell_type": "code",
   "execution_count": 48,
   "metadata": {},
   "outputs": [
    {
     "name": "stdout",
     "output_type": "stream",
     "text": [
      "A. Cau, R. Kuiper, and W.-P. de Roever.\n"
     ]
    }
   ],
   "source": [
    "def cite_author(cite):\n",
    "    print(cite['author'])\n",
    "\n",
    "cite_author(citations[0])"
   ]
  },
  {
   "cell_type": "code",
   "execution_count": 52,
   "metadata": {},
   "outputs": [
    {
     "data": {
      "text/plain": [
       "\"Formalising Dijkstra's development strategy within Stark's formalism.  1992.\""
      ]
     },
     "execution_count": 52,
     "metadata": {},
     "output_type": "execute_result"
    }
   ],
   "source": [
    "def cite_title_date(cite):\n",
    "    outp = cite['title']\n",
    "    \n",
    "    if None != cite['date']:\n",
    "        outp += ' ' + cite['date']\n",
    "    return outp\n",
    "\n",
    "cite_title_date(citations[0])"
   ]
  },
  {
   "cell_type": "markdown",
   "metadata": {},
   "source": [
    "##### Practice"
   ]
  },
  {
   "cell_type": "markdown",
   "metadata": {},
   "source": [
    "Now, write a function that takes your list of citations and prints each citation's title."
   ]
  },
  {
   "cell_type": "code",
   "execution_count": 58,
   "metadata": {},
   "outputs": [
    {
     "name": "stdout",
     "output_type": "stream",
     "text": [
      "Formalising Dijkstra's development strategy within Stark's formalism. \n",
      "Application of hash to data base machine and its architecture. \n",
      "Fast and accurate flow-insensitive points-to analysis. \n"
     ]
    }
   ],
   "source": [
    "def print_titles(cites):\n",
    "    for c in cites:\n",
    "        print(c['title'])\n",
    "\n",
    "\n",
    "print_titles(citations)"
   ]
  },
  {
   "cell_type": "markdown",
   "metadata": {},
   "source": [
    "#### Classes and Objects"
   ]
  },
  {
   "cell_type": "markdown",
   "metadata": {},
   "source": [
    "*Objects are an encapsulation of variables and functions into a single entity. Objects get their variables and functions from classes. Classes are essentially a template to create your objects.* ([learnpython.org](https://www.learnpython.org/en/Classes_and_Objects))\n",
    "\n",
    "Objects: Things\n",
    "Classes: Types of things\n",
    "\n"
   ]
  },
  {
   "cell_type": "markdown",
   "metadata": {},
   "source": [
    "##### Attributes and Methods\n",
    "\n"
   ]
  },
  {
   "cell_type": "code",
   "execution_count": 85,
   "metadata": {},
   "outputs": [
    {
     "data": {
      "text/plain": [
       "{'author': 'A. Cau, R. Kuiper, and W.-P. de Roever.',\n",
       " 'title': \"Formalising Dijkstra's development strategy within Stark's formalism. \",\n",
       " 'journal': None,\n",
       " 'volume': None,\n",
       " 'number': None,\n",
       " 'book_title': 'Proc. 5th. BCS-FACS Refinement Workshop, ',\n",
       " 'date': '1992.'}"
      ]
     },
     "execution_count": 85,
     "metadata": {},
     "output_type": "execute_result"
    }
   ],
   "source": [
    "class Citation:\n",
    "    def __init__(self, details):\n",
    "        self.author = details['author']\n",
    "        self.title = details['title']\n",
    "        \n",
    "    def names(self):\n",
    "        return self.author.split(',')\n",
    "\n",
    "citations[0]"
   ]
  },
  {
   "cell_type": "code",
   "execution_count": 118,
   "metadata": {},
   "outputs": [
    {
     "data": {
      "text/plain": [
       "[<__main__.Citation at 0x1c2aa54b080>]"
      ]
     },
     "execution_count": 118,
     "metadata": {},
     "output_type": "execute_result"
    }
   ],
   "source": [
    "cites = []\n",
    "cites.append(c)\n",
    "c = Citation(citations[0])\n",
    "c.names()\n",
    "\n",
    "cites"
   ]
  },
  {
   "cell_type": "code",
   "execution_count": 76,
   "metadata": {},
   "outputs": [
    {
     "data": {
      "text/plain": [
       "{'author': 'A. Cau, R. Kuiper, and W.-P. de Roever.',\n",
       " 'title': \"Formalising Dijkstra's development strategy within Stark's formalism. \",\n",
       " 'journal': None,\n",
       " 'volume': None,\n",
       " 'number': None,\n",
       " 'book_title': 'Proc. 5th. BCS-FACS Refinement Workshop, ',\n",
       " 'date': '1992.'}"
      ]
     },
     "execution_count": 76,
     "metadata": {},
     "output_type": "execute_result"
    }
   ],
   "source": [
    "citations[0]"
   ]
  },
  {
   "cell_type": "code",
   "execution_count": 74,
   "metadata": {},
   "outputs": [
    {
     "name": "stdout",
     "output_type": "stream",
     "text": [
      "yes\n"
     ]
    }
   ],
   "source": [
    "if 'volume' in citations[0]:\n",
    "    print('yes')"
   ]
  },
  {
   "cell_type": "code",
   "execution_count": 75,
   "metadata": {},
   "outputs": [
    {
     "data": {
      "text/plain": [
       "False"
      ]
     },
     "execution_count": 75,
     "metadata": {},
     "output_type": "execute_result"
    }
   ],
   "source": [
    "'not there' in citations[0]"
   ]
  },
  {
   "cell_type": "markdown",
   "metadata": {},
   "source": [
    "##### Practice"
   ]
  },
  {
   "cell_type": "markdown",
   "metadata": {},
   "source": [
    "Now, make some changes to the `Citation` class. Have the `__init__` method save all of the values in our `citations` dictionaries. Then add a new method called `complete()` that will print all the components of the citation, for example:\n",
    "\n",
    "  *A. Cau, R. Kuiper, and W.-P. de Roever. Formalising Dijkstra's development strategy within Stark's formalism. Proc. 5th. BCS-FACS Refinement Workshop, 1992.*\n",
    "  \n",
    "Note that   \n",
    "1. You'll have to check whether each variable is a string or `None` before printing it.\n",
    "2. You'll need to store your output in a variable (see `cite_title_date` above for an example."
   ]
  },
  {
   "cell_type": "code",
   "execution_count": 86,
   "metadata": {},
   "outputs": [
    {
     "name": "stdout",
     "output_type": "stream",
     "text": [
      "M. Kitsuregawa, H. Tanaka, and T. Moto-oka. Application of hash to data base machine and its architecture. New Generation Computing, 1(1), 1983.\n"
     ]
    }
   ],
   "source": [
    "class Citation:\n",
    "    def __init__(self, details):\n",
    "        self.author = details['author']\n",
    "        self.title = details['title']\n",
    "        \n",
    "        if 'journal' in details:\n",
    "            self.journal = details['journal']\n",
    "        else:\n",
    "            self.journal = None\n",
    "            \n",
    "        if 'volume' in details:\n",
    "            self.volume = details['volume']\n",
    "        else:\n",
    "            self.volume = None\n",
    "        \n",
    "        self.number =  details['number']\n",
    "        self.book_title =  details['book_title']\n",
    "        self.date =  details['date']\n",
    "        \n",
    "    def names(self):\n",
    "        return self.author.split(',')\n",
    "    \n",
    "    def complete(self):\n",
    "        output = self.author + self.title\n",
    "        if self.journal: \n",
    "            output = output + self.journal\n",
    "        if self.volume:\n",
    "            output += self.volume\n",
    "        if self.number:\n",
    "            output += self.number\n",
    "        if self.book_title:\n",
    "            output += self.book_title\n",
    "        if self.date:\n",
    "            output += self.date\n",
    "        print(output)\n",
    "        \n",
    "c = Citation(citations[1])\n",
    "c.complete()"
   ]
  },
  {
   "cell_type": "markdown",
   "metadata": {},
   "source": [
    "#### Modules"
   ]
  },
  {
   "cell_type": "markdown",
   "metadata": {},
   "source": [
    "In this class, we'll be more interested in using existing modules than creating our own.\n",
    "\n",
    "There are a few different ways to import modules:\n",
    "\n",
    "##### `import pathlib`\n",
    "\n",
    "With this version, we have to use the module's name in every call to the objects in the module, like this:"
   ]
  },
  {
   "cell_type": "code",
   "execution_count": 88,
   "metadata": {},
   "outputs": [
    {
     "data": {
      "text/plain": [
       "'.'"
      ]
     },
     "execution_count": 88,
     "metadata": {},
     "output_type": "execute_result"
    }
   ],
   "source": [
    "import pathlib\n",
    "p = pathlib.Path('.')\n",
    "str(p)"
   ]
  },
  {
   "cell_type": "markdown",
   "metadata": {},
   "source": [
    "##### `from pathlib import Path`\n",
    "\n",
    "##### `from pathlib import *`\n",
    "\n",
    "This form allows us to use the `Path` class without prefixing the name of its module:"
   ]
  },
  {
   "cell_type": "code",
   "execution_count": 152,
   "metadata": {},
   "outputs": [
    {
     "data": {
      "text/plain": [
       "'.'"
      ]
     },
     "execution_count": 152,
     "metadata": {},
     "output_type": "execute_result"
    }
   ],
   "source": [
    "from pathlib import Path\n",
    "p = Path('.')\n",
    "str(p)"
   ]
  },
  {
   "cell_type": "markdown",
   "metadata": {},
   "source": [
    "##### `from pathlib import Path as p`\n",
    "\n",
    "This allows us to change the name of the object as used in our script:"
   ]
  },
  {
   "cell_type": "code",
   "execution_count": 89,
   "metadata": {},
   "outputs": [
    {
     "data": {
      "text/plain": [
       "'.'"
      ]
     },
     "execution_count": 89,
     "metadata": {},
     "output_type": "execute_result"
    }
   ],
   "source": [
    "from pathlib import Path as p\n",
    "pt = p('.')\n",
    "str(pt)"
   ]
  },
  {
   "cell_type": "markdown",
   "metadata": {},
   "source": [
    "Here we'll work with some XML. Don't worry too much about the specifics here (yet), just know that data in XML (or HTML) format is hierarchical: Everything here is between the `<data>` and `</data>` tags, so it all \"belongs to\" or is \"under\" `data`. `author`s are children of `citation`s.\n",
    "\n",
    "There's an `etree` tutorial at https://docs.python.org/3/library/xml.etree.elementtree.html"
   ]
  },
  {
   "cell_type": "code",
   "execution_count": 111,
   "metadata": {},
   "outputs": [],
   "source": [
    "xml = \"\"\"\n",
    "<data>\n",
    "    <citation><author> T. Fahringer, R. Blasko, and H. Zima. </author> <title> Automatic performance prediction to support parallelization of Fortran programs for massively parallel systems. </title> <booktitle> In Proceedings of the 1992 ACM International Conference on Supercomputing, </booktitle> <location> Washington, DC, </location> <date> July 1992. </date></citation>\n",
    "    <citation><author> A. D. Kallis and D. Klappholz, </author> <title> ``Reaching definitions analysis on code containing array references,'' </title> <booktitle> Conf. Rec. of the 4th Workshop on Languages and Compilers for Parallel Computing, </booktitle> <date> Aug. 1991. </date></citation>\n",
    "    <citation><author> R. Fletcher. </author> <title> Practical Methods of Optimization. </title> <publisher> John Wiley &amp; Sons, </publisher> <date> 1987. </date></citation>\n",
    "    <citation><author> Clark, K. L., </author> <title> Negation as Failure, </title> <editor> in: H. Gallaire and J. Minker (eds.), </editor> <booktitle> Logic and Data Bases, </booktitle> <publisher> Plenum Press, </publisher> <location> New York, </location> <date> 1978. </date></citation>\n",
    "    <citation><author> Gent, I. P., &amp; Walsh, T. </author> <date> (1994a). </date> <title> Easy problems are sometimes hard. </title> <journal> Artificial Intelligence, </journal> <volume> 70, </volume> <pages> 335-345. </pages></citation>\n",
    "</data>\n",
    "\"\"\""
   ]
  },
  {
   "cell_type": "code",
   "execution_count": 112,
   "metadata": {},
   "outputs": [
    {
     "name": "stdout",
     "output_type": "stream",
     "text": [
      " T. Fahringer, R. Blasko, and H. Zima. \n",
      " A. D. Kallis and D. Klappholz, \n",
      " R. Fletcher. \n",
      " Clark, K. L., \n",
      " Gent, I. P., & Walsh, T. \n"
     ]
    }
   ],
   "source": [
    "#import etree\n",
    "import xml.etree.ElementTree as ET\n",
    "\n",
    "#load our string as XML and name it root\n",
    "root = ET.fromstring(xml)\n",
    "\n",
    "#loop over each citation in the XML.\n",
    "for citation in root:\n",
    "    print(citation.find('author').text)"
   ]
  },
  {
   "cell_type": "markdown",
   "metadata": {},
   "source": [
    "##### Practice"
   ]
  },
  {
   "cell_type": "markdown",
   "metadata": {},
   "source": [
    "Write a function that takes the `xml` string above and prints each citation's `title`, `editor` (if it exists), and `date` (if it exists)."
   ]
  },
  {
   "cell_type": "code",
   "execution_count": 113,
   "metadata": {},
   "outputs": [
    {
     "name": "stdout",
     "output_type": "stream",
     "text": [
      " Automatic performance prediction to support parallelization of Fortran programs for massively parallel systems.  July 1992. \n",
      " ``Reaching definitions analysis on code containing array references,''  Aug. 1991. \n",
      " Practical Methods of Optimization.  1987. \n",
      " Negation as Failure,  in: H. Gallaire and J. Minker (eds.),  1978. \n",
      " Easy problems are sometimes hard.  (1994a). \n"
     ]
    }
   ],
   "source": [
    "for cit in root:\n",
    "    out = cit.find('title').text\n",
    "    \n",
    "    editor = cit.find('editor')\n",
    "    if editor != None:\n",
    "        out += editor.text\n",
    "    \n",
    "    date = cit.find('date')\n",
    "    out += date.text\n",
    "    print(out)"
   ]
  },
  {
   "cell_type": "code",
   "execution_count": 116,
   "metadata": {},
   "outputs": [
    {
     "name": "stdout",
     "output_type": "stream",
     "text": [
      "{'title': ' Automatic performance prediction to support parallelization of Fortran programs for massively parallel systems. '}\n"
     ]
    },
    {
     "ename": "KeyError",
     "evalue": "'author'",
     "output_type": "error",
     "traceback": [
      "\u001b[1;31m---------------------------------------------------------------------------\u001b[0m",
      "\u001b[1;31mKeyError\u001b[0m                                  Traceback (most recent call last)",
      "\u001b[1;32m<ipython-input-116-4e61e8ef632e>\u001b[0m in \u001b[0;36m<module>\u001b[1;34m\u001b[0m\n\u001b[0;32m      4\u001b[0m     \u001b[0mnewcit\u001b[0m\u001b[1;33m[\u001b[0m\u001b[1;34m'title'\u001b[0m\u001b[1;33m]\u001b[0m \u001b[1;33m=\u001b[0m \u001b[0mcit\u001b[0m\u001b[1;33m.\u001b[0m\u001b[0mfind\u001b[0m\u001b[1;33m(\u001b[0m\u001b[1;34m'title'\u001b[0m\u001b[1;33m)\u001b[0m\u001b[1;33m.\u001b[0m\u001b[0mtext\u001b[0m\u001b[1;33m\u001b[0m\u001b[1;33m\u001b[0m\u001b[0m\n\u001b[0;32m      5\u001b[0m     \u001b[0mprint\u001b[0m\u001b[1;33m(\u001b[0m\u001b[0mnewcit\u001b[0m\u001b[1;33m)\u001b[0m\u001b[1;33m\u001b[0m\u001b[1;33m\u001b[0m\u001b[0m\n\u001b[1;32m----> 6\u001b[1;33m     \u001b[0mcites\u001b[0m\u001b[1;33m.\u001b[0m\u001b[0mappend\u001b[0m\u001b[1;33m(\u001b[0m\u001b[0mCitation\u001b[0m\u001b[1;33m(\u001b[0m\u001b[0mnewcit\u001b[0m\u001b[1;33m)\u001b[0m\u001b[1;33m)\u001b[0m\u001b[1;33m\u001b[0m\u001b[1;33m\u001b[0m\u001b[0m\n\u001b[0m",
      "\u001b[1;32m<ipython-input-86-62a7ea7f1de5>\u001b[0m in \u001b[0;36m__init__\u001b[1;34m(self, details)\u001b[0m\n\u001b[0;32m      1\u001b[0m \u001b[1;32mclass\u001b[0m \u001b[0mCitation\u001b[0m\u001b[1;33m:\u001b[0m\u001b[1;33m\u001b[0m\u001b[1;33m\u001b[0m\u001b[0m\n\u001b[0;32m      2\u001b[0m     \u001b[1;32mdef\u001b[0m \u001b[0m__init__\u001b[0m\u001b[1;33m(\u001b[0m\u001b[0mself\u001b[0m\u001b[1;33m,\u001b[0m \u001b[0mdetails\u001b[0m\u001b[1;33m)\u001b[0m\u001b[1;33m:\u001b[0m\u001b[1;33m\u001b[0m\u001b[1;33m\u001b[0m\u001b[0m\n\u001b[1;32m----> 3\u001b[1;33m         \u001b[0mself\u001b[0m\u001b[1;33m.\u001b[0m\u001b[0mauthor\u001b[0m \u001b[1;33m=\u001b[0m \u001b[0mdetails\u001b[0m\u001b[1;33m[\u001b[0m\u001b[1;34m'author'\u001b[0m\u001b[1;33m]\u001b[0m\u001b[1;33m\u001b[0m\u001b[1;33m\u001b[0m\u001b[0m\n\u001b[0m\u001b[0;32m      4\u001b[0m         \u001b[0mself\u001b[0m\u001b[1;33m.\u001b[0m\u001b[0mtitle\u001b[0m \u001b[1;33m=\u001b[0m \u001b[0mdetails\u001b[0m\u001b[1;33m[\u001b[0m\u001b[1;34m'title'\u001b[0m\u001b[1;33m]\u001b[0m\u001b[1;33m\u001b[0m\u001b[1;33m\u001b[0m\u001b[0m\n\u001b[0;32m      5\u001b[0m \u001b[1;33m\u001b[0m\u001b[0m\n",
      "\u001b[1;31mKeyError\u001b[0m: 'author'"
     ]
    }
   ],
   "source": [
    "cites = []\n",
    "for cit in root:\n",
    "    newcit = {}\n",
    "    newcit['title'] = cit.find('title').text\n",
    "    print(newcit)\n",
    "    cites.append(Citation(newcit))"
   ]
  }
 ],
 "metadata": {
  "kernelspec": {
   "display_name": "Python 3",
   "language": "python",
   "name": "python3"
  },
  "language_info": {
   "codemirror_mode": {
    "name": "ipython",
    "version": 3
   },
   "file_extension": ".py",
   "mimetype": "text/x-python",
   "name": "python",
   "nbconvert_exporter": "python",
   "pygments_lexer": "ipython3",
   "version": "3.7.3"
  }
 },
 "nbformat": 4,
 "nbformat_minor": 2
}
