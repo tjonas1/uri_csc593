{
 "cells": [
  {
   "cell_type": "markdown",
   "metadata": {},
   "source": [
    "# CSC 593\n",
    "\n",
    "## Week 7"
   ]
  },
  {
   "cell_type": "markdown",
   "metadata": {},
   "source": [
    "### Merge Errors"
   ]
  },
  {
   "cell_type": "markdown",
   "metadata": {},
   "source": [
    "#### Not resolved automatically\n",
    "`git checkout --ours PATH/FILE`\n",
    "\n",
    "#### Resolved automatically (vim)\n",
    "`:wq`"
   ]
  },
  {
   "cell_type": "markdown",
   "metadata": {},
   "source": [
    "### Pandas 2"
   ]
  },
  {
   "cell_type": "code",
   "execution_count": null,
   "metadata": {},
   "outputs": [],
   "source": [
    "import numpy as np\n",
    "import pandas as pd"
   ]
  },
  {
   "cell_type": "markdown",
   "metadata": {},
   "source": [
    "The BRFSS (Behavioral Risk Factor Surveillance System) data is too big to put into Github. This cell downloads it from the CDC's website and unzips it into your `data` folder."
   ]
  },
  {
   "cell_type": "code",
   "execution_count": null,
   "metadata": {},
   "outputs": [],
   "source": [
    "#Setup for examples.\n",
    "from urllib.request import urlretrieve\n",
    "import zipfile\n",
    "from pathlib import Path\n",
    "\n",
    "zf = '../data/brfss/LLCP2018ASC.zip'\n",
    "if not Path(zf).exists():\n",
    "    Path('../data/brfss').mkdir(exist_ok=True)\n",
    "\n",
    "    urlretrieve('https://www.cdc.gov/brfss/annual_data/2018/pdf/overview-2018-508.pdf', '../data/brfss/overview-2018-508.pdf')\n",
    "    urlretrieve('https://www.cdc.gov/brfss/annual_data/2018/pdf/codebook18_llcp-v2-508.pdf', '../data/brfss/codebook18_llcp-v2-508.pdf')\n",
    "    \n",
    "    urlretrieve('https://www.cdc.gov/brfss/annual_data/2018/files/LLCP2018ASC.zip', zf)\n",
    "\n",
    "fwff = '../data/brfss/LLCP2018.ASC'\n",
    "if not Path(fwff).exists():\n",
    "    with zipfile.ZipFile(zf) as z:\n",
    "        z.extractall('../data/brfss')"
   ]
  },
  {
   "cell_type": "markdown",
   "metadata": {},
   "source": [
    "Load the BRFSS data and set a couple of data types explicitly. (More supported data types are listed at https://docs.scipy.org/doc/numpy/user/basics.types.html)"
   ]
  },
  {
   "cell_type": "code",
   "execution_count": null,
   "metadata": {},
   "outputs": [],
   "source": [
    "names= ['state', 'imonth', 'iday', \n",
    "        'iyear', 'dispcode','genhlth', \n",
    "        'physhlth',\n",
    "        'menthlth', 'poorhlth', 'hlthpln1',\n",
    "        'persdoc2', 'medcost', 'checkup1',\n",
    "        'WEIGHT2', 'HEIGHT3']\n",
    "cols = [\n",
    "    (1, 3),\n",
    "    (18, 20),\n",
    "    (20, 22),\n",
    "    (22, 27),\n",
    "    (31, 35),\n",
    "    (89, 90),\n",
    "    (90, 92),\n",
    "    (92, 94),\n",
    "    (94, 96),\n",
    "    (96, 97),\n",
    "    (97, 98),\n",
    "    (98, 99),\n",
    "    (99, 100),\n",
    "    (176, 180),\n",
    "    (180, 184)\n",
    "]\n",
    "types= {\n",
    "    'WEIGHT2': str, \n",
    "    'HEIGHT3': str,\n",
    "}\n",
    "brfss = pd.read_fwf(fwff, \n",
    "                    names=names,\n",
    "                    colspecs=cols,\n",
    "                    dtype=types)"
   ]
  },
  {
   "cell_type": "markdown",
   "metadata": {},
   "source": [
    "#### Searching"
   ]
  },
  {
   "cell_type": "code",
   "execution_count": null,
   "metadata": {},
   "outputs": [],
   "source": [
    "#Get an individual column.\n",
    "brfss['WEIGHT2']"
   ]
  },
  {
   "cell_type": "code",
   "execution_count": null,
   "metadata": {},
   "outputs": [],
   "source": [
    "#For multiple columns, use a list as a subscript.\n",
    "brfss[['WEIGHT2', 'HEIGHT3']]"
   ]
  },
  {
   "cell_type": "markdown",
   "metadata": {},
   "source": [
    "The `loc()` and `iloc()` methods (see the table on p. 144-5 of *Python for Data Analysis*)"
   ]
  },
  {
   "cell_type": "code",
   "execution_count": null,
   "metadata": {},
   "outputs": [],
   "source": [
    "#Get the first row.\n",
    "brfss.loc[0]"
   ]
  },
  {
   "cell_type": "code",
   "execution_count": null,
   "metadata": {},
   "outputs": [],
   "source": [
    "#Get WEIGHT2 from the third row.\n",
    "brfss.loc[2, 'WEIGHT2']"
   ]
  },
  {
   "cell_type": "code",
   "execution_count": null,
   "metadata": {},
   "outputs": [],
   "source": [
    "#Same thing, but using the integer index instead of the column name.\n",
    "brfss.iloc[2,-2]"
   ]
  },
  {
   "cell_type": "code",
   "execution_count": null,
   "metadata": {},
   "outputs": [],
   "source": [
    "brfss.at[2, 'WEIGHT2']"
   ]
  },
  {
   "cell_type": "code",
   "execution_count": null,
   "metadata": {},
   "outputs": [],
   "source": [
    "brfss.iat[2, -2]"
   ]
  },
  {
   "cell_type": "code",
   "execution_count": null,
   "metadata": {},
   "outputs": [],
   "source": [
    "brfss.loc[:100, ['HEIGHT3', 'WEIGHT2']]"
   ]
  },
  {
   "cell_type": "code",
   "execution_count": null,
   "metadata": {},
   "outputs": [],
   "source": [
    "#Find rows based on a value\n",
    "brfss[brfss['WEIGHT2']=='9999']"
   ]
  },
  {
   "cell_type": "markdown",
   "metadata": {},
   "source": [
    "The [`shape()`](https://pandas.pydata.org/pandas-docs/stable/reference/api/pandas.DataFrame.shape.html) method gives you the height and width of your DataFrame."
   ]
  },
  {
   "cell_type": "code",
   "execution_count": null,
   "metadata": {},
   "outputs": [],
   "source": [
    "print(brfss.shape)\n",
    "#Drop any rows without weight\n",
    "brfss.dropna(subset=['WEIGHT2'], inplace=True)\n",
    "print(brfss.shape)"
   ]
  },
  {
   "cell_type": "markdown",
   "metadata": {},
   "source": [
    "https://docs.scipy.org/doc/numpy-1.13.0/reference/generated/numpy.isin.html"
   ]
  },
  {
   "cell_type": "code",
   "execution_count": null,
   "metadata": {},
   "outputs": [],
   "source": [
    "brfss[np.isin(brfss['WEIGHT2'], ['7777', '9999'], invert=True)].shape"
   ]
  },
  {
   "cell_type": "markdown",
   "metadata": {},
   "source": [
    "#### Derived Fields"
   ]
  },
  {
   "cell_type": "code",
   "execution_count": null,
   "metadata": {},
   "outputs": [],
   "source": [
    "brfss = brfss[np.isin(brfss['WEIGHT2'], ['7777', '9999'], invert=True)]\n",
    "brfss = brfss[~brfss.WEIGHT2.str.startswith('1')]"
   ]
  },
  {
   "cell_type": "code",
   "execution_count": null,
   "metadata": {
    "scrolled": true
   },
   "outputs": [],
   "source": [
    "brfss['wtunit'] = brfss.WEIGHT2.str[0].astype(np.uint8)\n",
    "brfss['wt'] = brfss.WEIGHT2.str[1:].astype(np.uint16)\n",
    "brfss"
   ]
  },
  {
   "cell_type": "markdown",
   "metadata": {},
   "source": [
    "[`np.where()`](https://docs.scipy.org/doc/numpy/reference/generated/numpy.where.html) provides the equivalent of an *if-then-else* statement on each observation in a DataFrame:"
   ]
  },
  {
   "cell_type": "code",
   "execution_count": null,
   "metadata": {},
   "outputs": [],
   "source": [
    "lbsperkg = 2.205\n",
    "brfss['wtlbs'] = np.where(brfss.wtunit==9, brfss.wt*lbsperkg, brfss.wt).astype(np.int16)"
   ]
  },
  {
   "cell_type": "code",
   "execution_count": null,
   "metadata": {},
   "outputs": [],
   "source": [
    "brfss[brfss.wtunit==9]"
   ]
  },
  {
   "cell_type": "markdown",
   "metadata": {},
   "source": [
    "##### Practice\n",
    "\n",
    "Create a `htinches` column from the `brfss.HEIGHT3` column. \n",
    "\n",
    "1. Remove rows where `HEIGHT3` is 7777 (\"Don't know/Not sure\"),  9999 (\"Refused\"), or NaN.\n",
    "2. If the first character of `HEIGHT3` is '9', multiply the remaining three digits by `cmtoin` (defined below) to get height in inches.\n",
    "3. If the first character of `HEIGHT3` is '0', the second character is feet, and the third and fourth are inches ('0601' means six feet, one inch). Convert this to inches.\n",
    "\n",
    "See page 36 of the codebook for details on the `HEIGHT3` field."
   ]
  },
  {
   "cell_type": "code",
   "execution_count": null,
   "metadata": {},
   "outputs": [],
   "source": [
    "cmtoin = 0.3937"
   ]
  },
  {
   "cell_type": "code",
   "execution_count": null,
   "metadata": {},
   "outputs": [],
   "source": []
  },
  {
   "cell_type": "markdown",
   "metadata": {},
   "source": [
    "#### Summary statistics and aggregation"
   ]
  },
  {
   "cell_type": "code",
   "execution_count": null,
   "metadata": {},
   "outputs": [],
   "source": [
    "brfss.groupby(['persdoc2', 'poorhlth']).size() #or .mean()"
   ]
  },
  {
   "cell_type": "code",
   "execution_count": null,
   "metadata": {
    "scrolled": true
   },
   "outputs": [],
   "source": [
    "# | means 'or'\n",
    "# ph=1 if you were sick more than 5 days, 0 otherwise:\n",
    "brfss['ph'] = np.where((brfss['poorhlth'] > 30) | (brfss['poorhlth'] <= 5) | (brfss['poorhlth'].isnull()), 0, 1)\n",
    "brfss"
   ]
  },
  {
   "cell_type": "code",
   "execution_count": null,
   "metadata": {
    "scrolled": true
   },
   "outputs": [],
   "source": [
    "#brfss.groupby(['persdoc2', 'ph']).describe()\n",
    "brfss.ph.groupby(brfss.persdoc2).size()"
   ]
  },
  {
   "cell_type": "code",
   "execution_count": null,
   "metadata": {},
   "outputs": [],
   "source": [
    "#Calculate percentages instead of raw numbers.\n",
    "docph = brfss.groupby(['persdoc2', 'ph']).size()\n",
    "docph.groupby(level=0).apply(lambda x: 100 * x / float(x.sum()))"
   ]
  },
  {
   "cell_type": "markdown",
   "metadata": {},
   "source": [
    "We can bin or categorize numeric variables with [`pd.cut()`](https://pandas.pydata.org/pandas-docs/stable/reference/api/pandas.cut.html)."
   ]
  },
  {
   "cell_type": "code",
   "execution_count": null,
   "metadata": {},
   "outputs": [],
   "source": [
    "## 88 means 'none'; want to bin it separately from \"Don't know\" and \"refused\"\n",
    "brfss.loc[brfss.poorhlth==88, 'poorhlth']=51\n",
    "bins = [1, 5, 10, 20, 30, 51, 70]\n",
    "brfss['phcats'] = pd.cut(brfss.poorhlth, bins, \n",
    "                         labels=['less than 5', 'less than 10', \n",
    "                                 'less than 20', 'more than 20', 'none', \"don't know/refused\"])\n",
    "brfss"
   ]
  },
  {
   "cell_type": "markdown",
   "metadata": {},
   "source": [
    "##### Practice\n",
    "\n",
    "Create a new column that divides `iday` into 3 bins (1-10, 11-20, 21+)."
   ]
  },
  {
   "cell_type": "code",
   "execution_count": null,
   "metadata": {},
   "outputs": [],
   "source": []
  },
  {
   "cell_type": "markdown",
   "metadata": {},
   "source": [
    "2) Group `brfss` by `hlthpln1` and `medcost` and create a table like the one above (for `persdoc2` and `ph`) with percentages for each subgroup."
   ]
  },
  {
   "cell_type": "code",
   "execution_count": null,
   "metadata": {},
   "outputs": [],
   "source": []
  }
 ],
 "metadata": {
  "kernelspec": {
   "display_name": "Python 3",
   "language": "python",
   "name": "python3"
  },
  "language_info": {
   "codemirror_mode": {
    "name": "ipython",
    "version": 3
   },
   "file_extension": ".py",
   "mimetype": "text/x-python",
   "name": "python",
   "nbconvert_exporter": "python",
   "pygments_lexer": "ipython3",
   "version": "3.7.3"
  }
 },
 "nbformat": 4,
 "nbformat_minor": 2
}
