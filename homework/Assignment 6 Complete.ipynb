{
 "cells": [
  {
   "cell_type": "markdown",
   "metadata": {},
   "source": [
    "# Assignment 6\n",
    "\n",
    "*(Due Saturday, October 26, 2019 at noon.)*"
   ]
  },
  {
   "cell_type": "markdown",
   "metadata": {},
   "source": [
    "**1)** Below, paste the code needed to import and clean your file from the `../dataset` directory in your repository, then save the result to a new file. I should be able to run the code in this notebook and get my own copy of your cleaned, processed data.\n",
    "\n",
    "**Note:** Your assignment file will be publicly accessible on Github. If your dataset is private, don't print anything confidential in this assignment. "
   ]
  },
  {
   "cell_type": "code",
   "execution_count": 1,
   "metadata": {},
   "outputs": [],
   "source": [
    "# Loading packages Numpy and Pandas\n",
    "import numpy as np\n",
    "import pandas as pd\n",
    "#Load Driving File and keep first column as index\n",
    "drive = pd.read_csv('../dataset/drive.csv', index_col=0)"
   ]
  },
  {
   "cell_type": "code",
   "execution_count": 2,
   "metadata": {},
   "outputs": [],
   "source": [
    "# Rename columns in order to ba able to clean it (Contained square brackets)\n",
    "drive.rename(columns = {'Altitude[m]':'altitude', 'Latitude[deg]':'latitude', 'Longitude[deg]': 'longitude' }, inplace = True) "
   ]
  },
  {
   "cell_type": "code",
   "execution_count": 60,
   "metadata": {},
   "outputs": [
    {
     "data": {
      "text/html": [
       "<div>\n",
       "<style scoped>\n",
       "    .dataframe tbody tr th:only-of-type {\n",
       "        vertical-align: middle;\n",
       "    }\n",
       "\n",
       "    .dataframe tbody tr th {\n",
       "        vertical-align: top;\n",
       "    }\n",
       "\n",
       "    .dataframe thead th {\n",
       "        text-align: right;\n",
       "    }\n",
       "</style>\n",
       "<table border=\"1\" class=\"dataframe\">\n",
       "  <thead>\n",
       "    <tr style=\"text-align: right;\">\n",
       "      <th></th>\n",
       "      <th>altitude</th>\n",
       "      <th>HV Battery Current[A]</th>\n",
       "      <th>HV Battery SOC[%]</th>\n",
       "      <th>HV Battery Voltage[V]</th>\n",
       "      <th>Is Driving[bool]</th>\n",
       "      <th>latitude</th>\n",
       "      <th>longitude</th>\n",
       "      <th>OAT[degC]</th>\n",
       "      <th>Vehicle Speed[km/h]</th>\n",
       "    </tr>\n",
       "    <tr>\n",
       "      <th>Timestamp(ms)</th>\n",
       "      <th></th>\n",
       "      <th></th>\n",
       "      <th></th>\n",
       "      <th></th>\n",
       "      <th></th>\n",
       "      <th></th>\n",
       "      <th></th>\n",
       "      <th></th>\n",
       "      <th></th>\n",
       "    </tr>\n",
       "  </thead>\n",
       "  <tbody>\n",
       "    <tr>\n",
       "      <th>3500</th>\n",
       "      <td>74.400002</td>\n",
       "      <td>-1.25</td>\n",
       "      <td>33.0</td>\n",
       "      <td>319.00</td>\n",
       "      <td>1</td>\n",
       "      <td>41.489159</td>\n",
       "      <td>-71.521751</td>\n",
       "      <td>10</td>\n",
       "      <td>0</td>\n",
       "    </tr>\n",
       "    <tr>\n",
       "      <th>4500</th>\n",
       "      <td>74.400002</td>\n",
       "      <td>-13.75</td>\n",
       "      <td>33.0</td>\n",
       "      <td>318.50</td>\n",
       "      <td>1</td>\n",
       "      <td>41.489159</td>\n",
       "      <td>-71.521751</td>\n",
       "      <td>10</td>\n",
       "      <td>2</td>\n",
       "    </tr>\n",
       "    <tr>\n",
       "      <th>5500</th>\n",
       "      <td>74.400002</td>\n",
       "      <td>-13.75</td>\n",
       "      <td>33.0</td>\n",
       "      <td>318.50</td>\n",
       "      <td>1</td>\n",
       "      <td>41.489159</td>\n",
       "      <td>-71.521751</td>\n",
       "      <td>10</td>\n",
       "      <td>2</td>\n",
       "    </tr>\n",
       "    <tr>\n",
       "      <th>6500</th>\n",
       "      <td>74.400002</td>\n",
       "      <td>-10.75</td>\n",
       "      <td>33.0</td>\n",
       "      <td>318.75</td>\n",
       "      <td>1</td>\n",
       "      <td>41.489159</td>\n",
       "      <td>-71.521751</td>\n",
       "      <td>10</td>\n",
       "      <td>3</td>\n",
       "    </tr>\n",
       "    <tr>\n",
       "      <th>7500</th>\n",
       "      <td>74.400002</td>\n",
       "      <td>-15.50</td>\n",
       "      <td>33.0</td>\n",
       "      <td>318.25</td>\n",
       "      <td>1</td>\n",
       "      <td>41.489159</td>\n",
       "      <td>-71.521751</td>\n",
       "      <td>10</td>\n",
       "      <td>6</td>\n",
       "    </tr>\n",
       "  </tbody>\n",
       "</table>\n",
       "</div>"
      ],
      "text/plain": [
       "                altitude  HV Battery Current[A]  HV Battery SOC[%]  \\\n",
       "Timestamp(ms)                                                        \n",
       "3500           74.400002                  -1.25               33.0   \n",
       "4500           74.400002                 -13.75               33.0   \n",
       "5500           74.400002                 -13.75               33.0   \n",
       "6500           74.400002                 -10.75               33.0   \n",
       "7500           74.400002                 -15.50               33.0   \n",
       "\n",
       "               HV Battery Voltage[V]  Is Driving[bool]   latitude  longitude  \\\n",
       "Timestamp(ms)                                                                  \n",
       "3500                          319.00                 1  41.489159 -71.521751   \n",
       "4500                          318.50                 1  41.489159 -71.521751   \n",
       "5500                          318.50                 1  41.489159 -71.521751   \n",
       "6500                          318.75                 1  41.489159 -71.521751   \n",
       "7500                          318.25                 1  41.489159 -71.521751   \n",
       "\n",
       "               OAT[degC]  Vehicle Speed[km/h]  \n",
       "Timestamp(ms)                                  \n",
       "3500                  10                    0  \n",
       "4500                  10                    2  \n",
       "5500                  10                    2  \n",
       "6500                  10                    3  \n",
       "7500                  10                    6  "
      ]
     },
     "execution_count": 60,
     "metadata": {},
     "output_type": "execute_result"
    }
   ],
   "source": [
    "# Deleting rows where GPS signal in the beginning was lost\n",
    "drive = drive[drive.longitude != 0]\n",
    "drive.head()"
   ]
  },
  {
   "cell_type": "code",
   "execution_count": 50,
   "metadata": {},
   "outputs": [],
   "source": [
    "#Save your file (change the name if necessary).\n",
    "drive.to_csv('../dataset/drive2.csv')"
   ]
  },
  {
   "cell_type": "markdown",
   "metadata": {},
   "source": [
    "**2)** A brief survey: Have you taken an introductory statistics course, and if so, do you remember much from it? For example,\n",
    "\n",
    "* Can you articulate the null hypotheses for the questions you formulated last week involving your data? \n",
    "* Do you know what a t-test is for?\n",
    "* Do you know what a *p* value represents?\n",
    "* Do you know what standard deviation is, and how it's calculated?"
   ]
  },
  {
   "cell_type": "markdown",
   "metadata": {},
   "source": [
    "* Yes\n",
    "* Yes\n",
    "* Yes\n",
    "* Yes"
   ]
  },
  {
   "cell_type": "markdown",
   "metadata": {},
   "source": [
    "#### Submitting\n",
    "\n",
    "In the Terminal (Mac) or Git Bash (Windows):\n",
    "\n",
    "`git commit -a -m 'Assignment 6 completed'`  \n",
    "`git push`"
   ]
  },
  {
   "cell_type": "markdown",
   "metadata": {},
   "source": [
    "### Reading\n",
    "\n",
    "1. [_Python for Data Analysis_](https://uri-primo.hosted.exlibrisgroup.com/permalink/f/10nopmq/01URI_ALMA51209454630002396):\n",
    "    * Section 7.3\n",
    "    * Chapter 10"
   ]
  }
 ],
 "metadata": {
  "kernelspec": {
   "display_name": "Python 3",
   "language": "python",
   "name": "python3"
  },
  "language_info": {
   "codemirror_mode": {
    "name": "ipython",
    "version": 3
   },
   "file_extension": ".py",
   "mimetype": "text/x-python",
   "name": "python",
   "nbconvert_exporter": "python",
   "pygments_lexer": "ipython3",
   "version": "3.7.4"
  }
 },
 "nbformat": 4,
 "nbformat_minor": 4
}
