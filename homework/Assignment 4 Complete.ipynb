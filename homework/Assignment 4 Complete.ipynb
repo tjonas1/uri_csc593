{
 "cells": [
  {
   "cell_type": "markdown",
   "metadata": {},
   "source": [
    "# Assignment 4\n",
    "\n",
    "*(Due Saturday, October 12, 2019 at noon.)*"
   ]
  },
  {
   "cell_type": "markdown",
   "metadata": {},
   "source": [
    "1) Write a list comprehension that returns `True` if a word contains the letter 'a', `False` otherwise. \n",
    "\n",
    "_Hint:_ remember the `in` operator:"
   ]
  },
  {
   "cell_type": "code",
   "execution_count": 4,
   "metadata": {},
   "outputs": [
    {
     "name": "stdout",
     "output_type": "stream",
     "text": [
      "True\n",
      "True\n"
     ]
    }
   ],
   "source": [
    "print('this' in ['this', 'that', 'other'])\n",
    "print('was' in 'washes')"
   ]
  },
  {
   "cell_type": "code",
   "execution_count": 13,
   "metadata": {},
   "outputs": [
    {
     "name": "stdout",
     "output_type": "stream",
     "text": [
      "['If', 'you', 'do', 'much', 'work', 'on', 'computers,', 'eventually', 'you', 'find', 'that', 'there’s', 'some', 'task', 'you’d', 'like', 'to', 'automate.', 'For', 'example,', 'you', 'may', 'wish', 'to', 'perform', 'a', 'search-and-replace', 'over', 'a', 'large', 'number', 'of', 'text', 'files,', 'or', 'rename', 'and', 'rearrange', 'a', 'bunch', 'of', 'photo', 'files', 'in', 'a', 'complicated', 'way.']\n"
     ]
    }
   ],
   "source": [
    "words = \"If you do much work on computers, eventually you find that there’s some task you’d like to automate. For example, you may wish to perform a search-and-replace over a large number of text files, or rename and rearrange a bunch of photo files in a complicated way.\".split()\n",
    "print(words)"
   ]
  },
  {
   "cell_type": "code",
   "execution_count": 46,
   "metadata": {},
   "outputs": [
    {
     "name": "stdout",
     "output_type": "stream",
     "text": [
      "[False, False, True, True, False, False, False, False, False, True, True, False, True, False, False, False, True, False, False, False, False, False, False, True, True, True, False, False, True, False, False, True, True, False, False]\n"
     ]
    }
   ],
   "source": [
    "print (['a' in word for word in words])"
   ]
  },
  {
   "cell_type": "markdown",
   "metadata": {},
   "source": [
    "2) Write a list comprehension that returns the lengths of the words in `words`, or 5 if the word is longer than 5 letters. \n",
    "\n",
    "_Hint:_ The `min()` function may be helpful here. Example:"
   ]
  },
  {
   "cell_type": "code",
   "execution_count": 48,
   "metadata": {},
   "outputs": [
    {
     "data": {
      "text/plain": [
       "6"
      ]
     },
     "execution_count": 48,
     "metadata": {},
     "output_type": "execute_result"
    }
   ],
   "source": [
    "min(len(\"Whatever\"), 6)"
   ]
  },
  {
   "cell_type": "code",
   "execution_count": 49,
   "metadata": {},
   "outputs": [
    {
     "name": "stdout",
     "output_type": "stream",
     "text": [
      "['If', 'one', 'positional', 'argument', 'is', 'provided,', 'it', 'should', 'be', 'an', 'iterable.', 'The', 'largest', 'item', 'in', 'the', 'iterable', 'is', 'returned.', 'If', 'two', 'or', 'more', 'positional', 'arguments', 'are', 'provided,', 'the', 'largest', 'of', 'the', 'positional', 'arguments', 'is', 'returned.']\n"
     ]
    }
   ],
   "source": [
    "words = \"If one positional argument is provided, it should be an iterable. The largest item in the iterable is returned. If two or more positional arguments are provided, the largest of the positional arguments is returned.\".split()\n",
    "print(words)"
   ]
  },
  {
   "cell_type": "code",
   "execution_count": 51,
   "metadata": {},
   "outputs": [
    {
     "name": "stdout",
     "output_type": "stream",
     "text": [
      "[2, 3, 5, 5, 2, 5, 2, 5, 2, 2, 5, 3, 5, 4, 2, 3, 5, 2, 5, 2, 3, 2, 4, 5, 5, 3, 5, 3, 5, 2, 3, 5, 5, 2, 5]\n"
     ]
    }
   ],
   "source": [
    "lengths = [min(len(word),5) for word in words]\n",
    "print(lengths)"
   ]
  },
  {
   "cell_type": "markdown",
   "metadata": {},
   "source": [
    "3) Finish the `first_letters_except2` function. It should work like `first_letters_except` from class, except that stopwords should be ignored instead of replaced with `None`. (*Hint:* You have most of the code you need for this already. You just need to remove some code from the original `first_letters_except`."
   ]
  },
  {
   "cell_type": "code",
   "execution_count": 96,
   "metadata": {},
   "outputs": [],
   "source": [
    "def first_letters_except2(words, stopwords):\n",
    "    output = [word[0] for word in words if word not in stopwords]\n",
    "    return output"
   ]
  },
  {
   "cell_type": "code",
   "execution_count": 97,
   "metadata": {},
   "outputs": [
    {
     "name": "stdout",
     "output_type": "stream",
     "text": [
      "['A', 'p', 'p', 's', 'p', 'F', 'p', 'm', 'p', 's']\n"
     ]
    }
   ],
   "source": [
    "sometitle = \"Automatic performance prediction to support parallelization of Fortran programs for massively parallel systems.\"\n",
    "stopwords = ['the', 'and', 'to', 'of', 'for']\n",
    "\n",
    "initials = first_letters_except2(sometitle.split(), stopwords)\n",
    "print(initials)"
   ]
  },
  {
   "cell_type": "markdown",
   "metadata": {},
   "source": [
    "4) Create a `dataset` directory in your `uri_csc593` folder and place your dataset files there."
   ]
  },
  {
   "cell_type": "markdown",
   "metadata": {},
   "source": [
    "Finally, run the next two boxes, so I can verify everyone already has the packages for next week installed."
   ]
  },
  {
   "cell_type": "code",
   "execution_count": 104,
   "metadata": {},
   "outputs": [
    {
     "data": {
      "text/plain": [
       "'4.7.1'"
      ]
     },
     "execution_count": 104,
     "metadata": {},
     "output_type": "execute_result"
    }
   ],
   "source": [
    "import bs4\n",
    "bs4.__version__"
   ]
  },
  {
   "cell_type": "code",
   "execution_count": 105,
   "metadata": {},
   "outputs": [
    {
     "data": {
      "text/plain": [
       "'2.22.0'"
      ]
     },
     "execution_count": 105,
     "metadata": {},
     "output_type": "execute_result"
    }
   ],
   "source": [
    "import requests\n",
    "requests.__version__"
   ]
  },
  {
   "cell_type": "markdown",
   "metadata": {},
   "source": [
    "#### Submitting\n",
    "\n",
    "In the Terminal (Mac) or Git Bash (Windows):\n",
    "\n",
    "`git commit -a -m 'Assignment 3 completed'`  \n",
    "`git push`"
   ]
  },
  {
   "cell_type": "markdown",
   "metadata": {},
   "source": [
    "### Reading for next week\n",
    "\n",
    "* The Python Tutorial, [Section 7.2](https://docs.python.org/3/tutorial/inputoutput.html#reading-and-writing-files) and [Chapter 10](https://docs.python.org/3/tutorial/stdlib.html).\n",
    "* Dataquest Blog: [Tutorial: Python Web Scraping Using BeautifulSoup\n",
    "](https://www.dataquest.io/blog/web-scraping-tutorial-python/)\n",
    "* Digital Ocean: [How To Scrape Web Pages with Beautiful Soup and Python 3\n",
    "](https://www.digitalocean.com/community/tutorials/how-to-scrape-web-pages-with-beautiful-soup-and-python-3) *(There's some duplication with the last reading, but I think they're both helpful.)*\n",
    "* **Optional:** The [BeautifulSoup documentation](https://www.crummy.com/software/BeautifulSoup/bs4/doc/)"
   ]
  }
 ],
 "metadata": {
  "kernelspec": {
   "display_name": "Python 3",
   "language": "python",
   "name": "python3"
  },
  "language_info": {
   "codemirror_mode": {
    "name": "ipython",
    "version": 3
   },
   "file_extension": ".py",
   "mimetype": "text/x-python",
   "name": "python",
   "nbconvert_exporter": "python",
   "pygments_lexer": "ipython3",
   "version": "3.7.3"
  }
 },
 "nbformat": 4,
 "nbformat_minor": 4
}
