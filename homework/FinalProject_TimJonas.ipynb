{
 "cells": [
  {
   "cell_type": "markdown",
   "metadata": {},
   "source": [
    "# University of Rhode Island\n",
    "# Final Project CSC 593, Programming for Scientists, Fall 2019\n",
    "## Tim Jonas"
   ]
  },
  {
   "cell_type": "markdown",
   "metadata": {},
   "source": [
    "## 1. Background\n",
    "### The goal of the research is to determine the influence of different factors (i.e., Traffic, Temperature, and Initial State of Charge) on the energy consumption of electric vehicles in kwH per mile. \n",
    "### Data was collected with a Volkswagen eGolf and Data was tracked by a device from fleetcarma that was plugged in the OBD II port of the vehicle. A total of 30 drives was conducted at different days and times. In order to analyze for the influence of traffic, the drives were conducted at different times of the day to create two scenarios (i.e., Traffic [07:00AM - 09:00AM] and No Traffic [Other times]). 15 drives were conducted in each scenario. The data was collected by two graduate students working in the SIS lab of the MCISE department at URI and one undergrad. The project was approved by the IRB. The data represents a sample since the whole EV driver population cannot be covered. The drivers had a similar demographic background and were EV unexperienced in order to minimize the potential influence of the driving style. Since this experiment was conducted in a naturalistic setting all possible factors were controlled to the maximum extend possible (e.g., driving on dry roads, equal music, same settings for air conditioning). However, not all factors could be controlled.\n",
    "### The raw data had to be cleaned and calculations had to be done in order to apply statistical methods. The following code includes all processes done from the raw data to the results of the statistical analyses."
   ]
  },
  {
   "cell_type": "markdown",
   "metadata": {},
   "source": [
    "## 2. Data Processing\n",
    "### Load Packages"
   ]
  },
  {
   "cell_type": "code",
   "execution_count": 1,
   "metadata": {},
   "outputs": [],
   "source": [
    "import numpy as np\n",
    "import pandas as pd\n",
    "import os\n",
    "# For changing the time and date\n",
    "from datetime import datetime, timedelta\n",
    "# For statistics\n",
    "from scipy import stats\n",
    "import statsmodels.formula.api as smf\n",
    "import statsmodels.api as sm\n",
    "import seaborn as sns\n",
    "import sklearn \n",
    "from sklearn.metrics import roc_auc_score\n",
    "from sklearn.metrics import roc_curve\n",
    "# For plots\n",
    "import matplotlib.pyplot as plt\n",
    "# For linear regression\n",
    "from sklearn.linear_model import LinearRegression"
   ]
  },
  {
   "cell_type": "markdown",
   "metadata": {},
   "source": [
    "\n",
    "### Remove or Replace unwanted characters\n",
    "#### A function is defined below that removes respectively replaces unwanted characters from Columns (e.g., \"(\", \")\", \"/\"). The initial files as downloaded from the fleetcarma website contained parentheses that are difficult to work with in the code. The function is called \"Renamer\" and can be used for every driving log."
   ]
  },
  {
   "cell_type": "code",
   "execution_count": 2,
   "metadata": {},
   "outputs": [],
   "source": [
    "# Remove unwanted characters from Columns\n",
    "def renamer(df):\n",
    "    drive = df.copy()\n",
    "    drive.columns = drive.columns.str.replace(\"[\", \"_\")\n",
    "    drive.columns = drive.columns.str.replace(\"]\",\"\")\n",
    "    drive.columns = drive.columns.str.replace(\"(\", \"_\")\n",
    "    drive.columns = drive.columns.str.replace(\")\",\"\")\n",
    "    drive.columns = drive.columns.str.replace(\"/\",\"\")\n",
    "    drive.columns = drive.columns.str.replace(\"%\",\"Pctg\")\n",
    "    \n",
    "    return drive"
   ]
  },
  {
   "cell_type": "markdown",
   "metadata": {},
   "source": [
    "### Create a list with all files in the the input folder\n",
    "#### All driving log files are in the folder \"InputDataFinalProject\". The following code creates a list with all .csv files in the directory. This list is later used for a function that loops through every single file in the directory respectively on the list."
   ]
  },
  {
   "cell_type": "code",
   "execution_count": 3,
   "metadata": {},
   "outputs": [
    {
     "name": "stdout",
     "output_type": "stream",
     "text": [
      "2018-11-29T20-34-18.csv\n",
      "2018-11-30T15-03-05.csv\n",
      "2018-11-14T12-52-06.csv\n",
      "2018-11-27T15-53-11.csv\n",
      "2018-11-05T21-05-26.csv\n",
      "2018-11-19T13-01-20_run2.csv\n",
      "2018-11-27T16-49-43_run2.csv\n",
      "2018-11-14T19-54-58.csv\n",
      "2018-11-19T13-01-20_run1.csv\n",
      "2018-11-27T16-49-43_run1.csv\n",
      "2018-11-08T15-16-59.csv\n",
      "2018-11-15T16-47-06.csv\n",
      "2018-12-04T12-46-28_run1.csv\n",
      "2018-12-04T12-46-28_run2.csv\n",
      "2018-11-15T12-47-44.csv\n",
      "2018-11-08T13-19-45.csv\n",
      "2018-11-15T13-37-51.csv\n",
      "2018-11-28T12-26-14.csv\n",
      "2018-11-14T20-49-28.csv\n",
      "2018-11-07T19-48-33.csv\n",
      "2018-11-28T13-17-30.csv\n",
      "2018-11-07T13-22-03.csv\n",
      "2018-11-21T15-57-44.csv\n",
      "2018-11-26T12-34-09.csv\n",
      "2018-11-29T12-35-21.csv\n",
      "2018-11-30T15-54-22.csv\n",
      "2018-11-14T13-37-37.csv\n",
      "2018-11-21T13-08-24.csv\n",
      "2018-11-26T19-23-11.csv\n",
      "2018-11-29T19-33-55.csv\n"
     ]
    }
   ],
   "source": [
    "# Print all filenames contained in the folder if it is a .csv file. This is just for controlling reasons.\n",
    "for filename in os.listdir('../homework/InputDataFinalProject'):\n",
    "    if filename.endswith(\".csv\"): \n",
    "        print(filename)\n",
    "# This function adds the name of every file in the directory that ends with \".csv\" to the list \"fileList\". Initially the list is empty and will be filled with the filenames after.\n",
    "def getFiles():\n",
    "    fileList = []\n",
    "    for filename in os.listdir('../homework/InputDataFinalProject'):\n",
    "        if filename.endswith(\".csv\"):\n",
    "            fileList.append(filename)\n",
    "    \n",
    "    return fileList\n"
   ]
  },
  {
   "cell_type": "markdown",
   "metadata": {},
   "source": [
    "### Create file with summary data\n",
    "#### The summary file 'TotalDrive' will contain all necessary information from every drive in a comprehensive way. This new data frame can then be used for staistical analysis."
   ]
  },
  {
   "cell_type": "code",
   "execution_count": 4,
   "metadata": {},
   "outputs": [],
   "source": [
    "# This defines the columns of the summary file\n",
    "columns = ['Workbookname','Date','Time','Type','Total Consumption (kWh)','Distance','Mean Consumption','Total Time (ms)','Average Speed','StdDev Speed','Average Acceleration','StdDev Acceleration','Average Jerk','StdDev Jerk','Initial SOC','Temperature']\n",
    "# This creates the dataframe for the summary data\n",
    "TotalDrive = pd.DataFrame(columns = columns)"
   ]
  },
  {
   "cell_type": "markdown",
   "metadata": {},
   "source": [
    "### Loop through all files in the input folder and do all calculations\n",
    "#### The calculations are needed to transform the raw data into numbers that are needed for the statistical analysis of the data. These numbers contain the speed in meters per second, acceleration, jerk (derivative of acceleration), distance travelled in the second of data tracking, cumulative distance for every data point, consumption for every second in kWh, distance to start point, and distance to end point. The latter is needed to have a uniform lap among all drives. Differences in the distance are due to tracking issues (GPS data was only tracked every four second). Additionally, rows without a GPS signal at the beginning of data collection were deleted. Additionally, a function is implemented in order to separate the drives by their scenario. Scenarios are defined based on daytime. Time and date information was only contained in the name of the file. The name of the file was therefore used to separate the scenarios (i.e., Traffic: 07:00AM - 09:00 AM and No Traffic: Else).\n"
   ]
  },
  {
   "cell_type": "code",
   "execution_count": 5,
   "metadata": {},
   "outputs": [],
   "source": [
    "# Loop through the folder and do the following calculations for every single raw data .csv file\n",
    "fileList = getFiles()\n",
    "# Start of the loop\n",
    "for i in range(len(fileList)):\n",
    "# Open the .csv file and leave out the first 5 rows that did not contain necessary data.\n",
    "    drive = pd.read_csv('../homework/InputDataFinalProject'+'/'+fileList[i], skiprows= 5, header=0)\n",
    "# Rename the columes as explained earlier by using the defined funciton renamer.\n",
    "    drive = renamer(drive)\n",
    "# Delete empty rows. The GPS tracking started always with a little delay. The empty rows are deleted.\n",
    "    drive = drive[drive.Longitude_deg != 0]\n",
    "    # Calculations are sarting below\n",
    "    # Add column with speed as m_s\n",
    "    drive['Vehicle Speed_m_s'] = drive['Vehicle Speed_kmh']/3.6\n",
    "    # Add column with Acceleration\n",
    "    drive['Vehicle Acceleration'] = drive['Vehicle Speed_m_s'] - drive['Vehicle Speed_m_s'].shift()\n",
    "    # Add Column with Jerk\n",
    "    drive['Vehicle Jerk'] = drive['Vehicle Acceleration'] - drive['Vehicle Acceleration'].shift()\n",
    "    # Add column with distance travelled in that second\n",
    "    drive['Dist_in_s'] = drive['Vehicle Speed_m_s']/1609.344\n",
    "    # Add column with cumulative distance\n",
    "    drive['Cumsum_Dist'] = drive['Dist_in_s'].cumsum()\n",
    "    # Consumption for every second\n",
    "    drive['kwh'] = ((drive['HV Battery Current_A'] * drive['HV Battery Voltage_V']*-1)/1000/3600)\n",
    "    # Add column with distance to start point defined as -41.480337, 71.521673\n",
    "    drive['Start_Cut'] = ((drive['Latitude_deg']-41.489207)**2)+((drive['Longitude_deg']+71.521673)**2)\n",
    "    drive['Start_Cut']=np.sqrt((drive['Start_Cut']))\n",
    "    # Add column with distance to end point defined as -41.480337, 71.525495\n",
    "    drive['End_Cut'] = ((drive['Latitude_deg']-41.480337)**2)+((drive['Longitude_deg']+71.525495)**2)\n",
    "    drive['End_Cut'] = np.sqrt((drive['End_Cut']))\n",
    "    # Delete rows before the closest point to the strating point and after the closest point to the ending point.\n",
    "    drive.truncate(drive['Start_Cut'].idxmin(),drive['End_Cut'].idxmin())\n",
    "    # The names of the file contain the time and date of the drive in the following way: Year_Month_Day\"T\"Hour_Minute_Second.\n",
    "    # This information contained only in the file name can be used to separate the drives by their scenario.\n",
    "    # Correct format for Date and Hour in order to run function strftime\n",
    "    A = fileList[i] # At first is a str\n",
    "    A = A.replace('T',' ')\n",
    "    # Separate date and time in order to reformat\n",
    "    # Define the Date\n",
    "    B = A[0:11]\n",
    "    # Define the time\n",
    "    C = A[11:19]\n",
    "    # Correct format for Date and Hour in order to run function strftime\n",
    "    C = C.replace('-',':')\n",
    "    # Combine renamed date and time \n",
    "    D = B+C\n",
    "\n",
    "    # Convert from string to datetime type\n",
    "    DateHour = datetime.strptime(D, \"%Y-%m-%d %H:%M:%S\") \n",
    "    # Split only the Date and convert to str again\n",
    "    Date = DateHour.strftime('%Y-%m-%d') \n",
    "    # Time is provided by fleetcarma in Coordinated Universal Time (UTC−05:00). This has to be adjusted to Eastern Daylight Time (EDT).\n",
    "    # Data collection was happening in autumn/winter. The time difference between UTC and EDT was 5 hours, meaning that ETD was 5 hours behind.\n",
    "    CorrectHour = DateHour - timedelta(hours=5) \n",
    "    # Split only the Date and convert to str again\n",
    "    Hour = CorrectHour.strftime('%H:%M:%S') \n",
    "    # Define 'hour' in a format that can separate the two scenarios Traffic and No traffic\n",
    "    hour = datetime.strptime(Hour,'%H:%M:%S')\n",
    "    # The time where traffic was assumed for the study is between 07:00AM and 09:00AM.The boundaries for the traffic scenarios are defined.\n",
    "    StartTraffic = datetime.strptime(\"07:00:00\", \"%H:%M:%S\")\n",
    "    EndTraffic = datetime.strptime(\"09:00:00\", \"%H:%M:%S\")\n",
    "    # This function adds a column to the summary data that defines based on the time of the drive whether it is a traffic scenario drive or a no traffic scenario drive.\n",
    "    if hour >= StartTraffic and hour <= EndTraffic:\n",
    "        Type = \"In Traffic\"\n",
    "    else:\n",
    "        Type = \"No Traffic\"\n",
    "    # Add all the necessary data for statistical analysis from every drive to the summary dataframe 'TotalDrive'.\n",
    "    TotalDrive = TotalDrive.append({'Workbookname' : fileList[i], 'Date' : Date, 'Time' : Hour, 'Type' : Type, 'Total Consumption (kWh)' : drive['kwh'].sum(), 'Distance' : drive.iloc[-1]['Cumsum_Dist'], 'Mean Consumption' : drive['kwh'].mean(), 'Average Speed' : drive['Vehicle Speed_kmh'].mean(), 'StdDev Speed' : drive['Vehicle Speed_kmh'].std(), 'Average Acceleration' : drive['Vehicle Acceleration'].mean(), 'StdDev Acceleration' : drive['Vehicle Acceleration'].std(), 'Average Jerk' : drive['Vehicle Jerk'].mean(), 'StdDev Jerk' : drive['Vehicle Jerk'].std(), 'Total Time (ms)' : drive.iloc[-1]['Timestamp_ms'] - drive.iloc[0]['Timestamp_ms'], 'Initial SOC' : drive.iloc[0]['HV Battery SOC_Pctg'], 'Temperature' : drive['OAT_degC'].mean()} , ignore_index=True)\n",
    "    # All data frames with the new columns added are saved as .csv files in the output folder in order to keep the results for every single drive.\n",
    "    drive.to_csv('../homework/OutputDataFinalProject'+'/'+fileList[i])"
   ]
  },
  {
   "cell_type": "markdown",
   "metadata": {},
   "source": [
    "## 3. Analysis"
   ]
  },
  {
   "cell_type": "markdown",
   "metadata": {},
   "source": [
    "### Test the two scenarios for a statistical difference using the paired sampole t-test. The t-test has to be paired because the same drivers were driving in both scenarios."
   ]
  },
  {
   "cell_type": "markdown",
   "metadata": {},
   "source": [
    "#### First, the new data frames are created. One has only the Traffic scenario data and the other one only the No Traffic scenario data."
   ]
  },
  {
   "cell_type": "code",
   "execution_count": 6,
   "metadata": {},
   "outputs": [],
   "source": [
    "# New data frame with only the traffic scenario data\n",
    "TotalDriveTraffic = TotalDrive[TotalDrive['Type'].str.contains(\"In Traffic\")]\n",
    "# This should be saved\n",
    "TotalDriveTraffic.to_csv('../homework/OutputDataFinalProject'+'/'+'TotalDriveTraffic.csv')\n",
    "# New data fram with only the no traffic scenario data\n",
    "TotalDriveNoTraffic = TotalDrive[TotalDrive['Type'].str.contains(\"No Traffic\")]\n",
    "# This should be saved\n",
    "TotalDriveTraffic.to_csv('../homework/OutputDataFinalProject'+'/'+'TotalDriveNoTraffic.csv')"
   ]
  },
  {
   "cell_type": "markdown",
   "metadata": {},
   "source": [
    "#### Second, the two scenarios have to be tested for outliers. This is done based on boxplots."
   ]
  },
  {
   "cell_type": "code",
   "execution_count": 7,
   "metadata": {
    "scrolled": true
   },
   "outputs": [
    {
     "data": {
      "image/png": "[encoded data removed]",
      "text/plain": [
       "<Figure size 432x288 with 2 Axes>"
      ]
     },
     "metadata": {
      "needs_background": "light"
     },
     "output_type": "display_data"
    }
   ],
   "source": [
    "# This defines the plot on the left hand side\n",
    "plt.subplot(1, 2, 1)\n",
    "# Title on the left\n",
    "plt.title('Traffic')\n",
    "# Data for boxplot left\n",
    "TotalDriveTraffic['Mean Consumption'].plot(kind='box')\n",
    "# This defines the plot on the right hand side\n",
    "plt.subplot(1, 2, 2)\n",
    "# Title on the right\n",
    "plt.title('No Traffic')\n",
    "# Data for plot on the right\n",
    "TotalDriveNoTraffic['Mean Consumption'].plot(kind='box')\n",
    "#Increase space between plots\n",
    "plt.tight_layout()"
   ]
  },
  {
   "cell_type": "markdown",
   "metadata": {},
   "source": [
    "#### Third, the data has to be tested for normal distribution. A Shapiro-Wilk-Test is used in order to test for normality. \n",
    "##### H0: The data is normally distributed.\n",
    "##### H1: The data is not normally distributed.\n",
    "##### The 0 hypothesis can be rejected if p < 0.1. An alpha of 0.1 is chosen because data was collected in a naturalistic setting with many uncontrollable factors.\n",
    "##### The null hypothesis cannot be rejected (p > 0.1). The data is normally distributed."
   ]
  },
  {
   "cell_type": "code",
   "execution_count": 8,
   "metadata": {},
   "outputs": [
    {
     "data": {
      "text/plain": [
       "(0.9501591324806213, 0.1707274615764618)"
      ]
     },
     "execution_count": 8,
     "metadata": {},
     "output_type": "execute_result"
    }
   ],
   "source": [
    "stats.shapiro(TotalDrive['Mean Consumption'])"
   ]
  },
  {
   "cell_type": "markdown",
   "metadata": {},
   "source": [
    "#### Fourth, it is tested if the data for the scenarios is significantly different using the paired sample t-test. \n",
    "##### H0: The scenarios are not significantly different in terms of average consumption.\n",
    "##### H1: The scenarios are significantly different in terms of average consumption.\n",
    "##### The 0 hypothesis can be rejected if p < 0.1. An alpha of 0.1 is chosen because data was collected in a naturalistic setting with many uncontrollable factors.\n",
    "##### The null hypothesis can be rejected (p<0.1). The result shows that the mean consumption between the two scenarios is significantly different. Now it has to be checked whether this is really based on the traffic volume. First of all, it needs to be proven that traffic was different in the first place."
   ]
  },
  {
   "cell_type": "code",
   "execution_count": 9,
   "metadata": {},
   "outputs": [
    {
     "data": {
      "text/plain": [
       "Ttest_relResult(statistic=3.0915662787184743, pvalue=0.007964692340987725)"
      ]
     },
     "execution_count": 9,
     "metadata": {},
     "output_type": "execute_result"
    }
   ],
   "source": [
    "stats.ttest_rel(TotalDriveTraffic['Mean Consumption'], TotalDriveNoTraffic['Mean Consumption'])"
   ]
  },
  {
   "cell_type": "markdown",
   "metadata": {},
   "source": [
    "### Test if traffic is different between the scenarios chosen based on time of day.\n",
    "#### In order to test the factor traffic for its influence, it has to be proven that there is really a difference within the two scenarios. This is again done by using the paired t-test. Different metrics can be used to analyze for traffic based on car data (i.e., deviation in speed, deviation in acceleration, deviation in jerk as a derivative of acceleration). The procedure is the same a conducted for checking differences in consumption between the scenarios."
   ]
  },
  {
   "cell_type": "markdown",
   "metadata": {},
   "source": [
    "#### The two scenarios have to be tested for outliers in terms of deviation of speed. This is done based on boxplots. The plots show outliers."
   ]
  },
  {
   "cell_type": "code",
   "execution_count": 10,
   "metadata": {
    "scrolled": false
   },
   "outputs": [
    {
     "data": {
      "image/png": "[encoded data removed]",
      "text/plain": [
       "<Figure size 432x288 with 2 Axes>"
      ]
     },
     "metadata": {
      "needs_background": "light"
     },
     "output_type": "display_data"
    }
   ],
   "source": [
    "# This defines the plot on the left hand side\n",
    "plt.subplot(1, 2, 1)\n",
    "# Title on the left\n",
    "plt.title('Traffic')\n",
    "#Data for boxplot left\n",
    "TotalDriveTraffic['StdDev Speed'].plot(kind='box')\n",
    "# This defines the plot on the right hand side\n",
    "plt.subplot(1, 2, 2)\n",
    "# Title on the right\n",
    "plt.title('No Traffic')\n",
    "# Data for plot on the right\n",
    "TotalDriveNoTraffic['StdDev Speed'].plot(kind='box')\n",
    "#Increase space between plots\n",
    "plt.tight_layout()"
   ]
  },
  {
   "cell_type": "markdown",
   "metadata": {},
   "source": [
    "##### The data has to be tested for normal distribution. A Shapiro-Wilk-Test is used in order to test for normality. \n",
    "##### H0: The data is normally distributed.\n",
    "##### H1: The data is not normally distributed.\n",
    "##### The 0 hypothesis can be rejected if p < 0.1. An alpha of 0.1 is chosen because data was collected in a naturalistic setting with many uncontrollable factors.\n",
    "##### The null hypothesis cannot be rejected (p > 0.1). The data is normally distributed."
   ]
  },
  {
   "cell_type": "code",
   "execution_count": 11,
   "metadata": {},
   "outputs": [
    {
     "data": {
      "text/plain": [
       "(0.9641150236129761, 0.3928055167198181)"
      ]
     },
     "execution_count": 11,
     "metadata": {},
     "output_type": "execute_result"
    }
   ],
   "source": [
    "stats.shapiro(TotalDrive['StdDev Speed'])"
   ]
  },
  {
   "cell_type": "markdown",
   "metadata": {},
   "source": [
    "#### The t-test is now comparing the standard deviations of speed between the two scenarios.\n",
    "##### H0: The scenarios are not significantly different in terms of speed.\n",
    "##### H1: The scenarios are significantly different in terms of speed.\n",
    "##### The 0 hypothesis can be rejected if p < 0.1. An alpha of 0.1 is chosen because data was collected in a naturalistic setting with many uncontrollable factors.\n",
    "##### The null hypothesis cannot be rejected (p>0.1). The result shows that the standard deviations of speed between the two scenarios is not significantly different. Speed variation cannot proof that there are differences in traffic between the two scenarios."
   ]
  },
  {
   "cell_type": "code",
   "execution_count": 12,
   "metadata": {
    "scrolled": true
   },
   "outputs": [
    {
     "data": {
      "text/plain": [
       "Ttest_relResult(statistic=1.1906108924360572, pvalue=0.25360330717998253)"
      ]
     },
     "execution_count": 12,
     "metadata": {},
     "output_type": "execute_result"
    }
   ],
   "source": [
    "stats.ttest_rel(TotalDriveTraffic['StdDev Speed'], TotalDriveNoTraffic['StdDev Speed'])"
   ]
  },
  {
   "cell_type": "markdown",
   "metadata": {},
   "source": [
    "#### Standard Deviation of acceleration is tested for differences between the scenarios since in traffic, there are more acceleration and deceleration moments. A difference would indicate driving in higher traffic intensity.\n",
    "#### The two scenarios have to be tested for outliers. This is done based on boxplots. The plots do not show outliers."
   ]
  },
  {
   "cell_type": "code",
   "execution_count": 13,
   "metadata": {
    "scrolled": true
   },
   "outputs": [
    {
     "data": {
      "image/png": "[encoded data removed]",
      "text/plain": [
       "<Figure size 432x288 with 2 Axes>"
      ]
     },
     "metadata": {
      "needs_background": "light"
     },
     "output_type": "display_data"
    }
   ],
   "source": [
    "# The code is similar to the one explained before, just adjusted by using different data.\n",
    "plt.subplot(1, 2, 1)\n",
    "plt.title('Traffic')\n",
    "TotalDriveTraffic['StdDev Acceleration'].plot(kind='box')\n",
    "plt.subplot(1, 2, 2)\n",
    "plt.title('No Traffic')\n",
    "TotalDriveNoTraffic['StdDev Acceleration'].plot(kind='box')\n",
    "plt.tight_layout()"
   ]
  },
  {
   "cell_type": "markdown",
   "metadata": {},
   "source": [
    "##### The data has to be tested for normal distribution. A Shapiro-Wilk-Test is used in order to test for normality. \n",
    "##### H0: The data is normally distributed.\n",
    "##### H1: The data is not normally distributed.\n",
    "##### The 0 hypothesis can be rejected if p < 0.1. An alpha of 0.1 is chosen because data was collected in a naturalistic setting with many uncontrollable factors.\n",
    "##### The null hypothesis cannot be rejected (p > 0.1). The data is normally distributed."
   ]
  },
  {
   "cell_type": "code",
   "execution_count": 14,
   "metadata": {},
   "outputs": [
    {
     "data": {
      "text/plain": [
       "(0.9825308322906494, 0.8881019353866577)"
      ]
     },
     "execution_count": 14,
     "metadata": {},
     "output_type": "execute_result"
    }
   ],
   "source": [
    "stats.shapiro(TotalDrive['StdDev Acceleration'])"
   ]
  },
  {
   "cell_type": "markdown",
   "metadata": {},
   "source": [
    "#### The t-test is now comparing the standard deviations of acceleration between the two scenarios.\n",
    "##### H0: The scenarios are not significantly different in terms of acceleration.\n",
    "##### H1: The scenarios are significantly different in terms of acceleration.\n",
    "##### The 0 hypothesis can be rejected if p < 0.1. An alpha of 0.1 is chosen because data was collected in a naturalistic setting with many uncontrollable factors.\n",
    "##### The null hypothesis can be rejected (p<0.1). The result shows that the standard deviations of acceleration between the two scenarios is  significantly different. Acceleration variation can proof that there are differences in traffic between the two scenarios."
   ]
  },
  {
   "cell_type": "code",
   "execution_count": 15,
   "metadata": {},
   "outputs": [
    {
     "data": {
      "text/plain": [
       "Ttest_relResult(statistic=2.4339063011654987, pvalue=0.02892509293774998)"
      ]
     },
     "execution_count": 15,
     "metadata": {},
     "output_type": "execute_result"
    }
   ],
   "source": [
    "stats.ttest_rel(TotalDriveTraffic['StdDev Acceleration'], TotalDriveNoTraffic['StdDev Acceleration'])"
   ]
  },
  {
   "cell_type": "markdown",
   "metadata": {},
   "source": [
    "#### Standard Deviation of jerk as a derivative of acceleration is tested for differences between the scenarios since in traffic, there are higher differences in acceleration and deceleration and thethe difference in jerk is higher. A difference would indicate driving in higher traffic intensity. Jerk is a good metric to proof differences in traffic intensities.\n",
    "#### The two scenarios have to be tested for outliers. This is done based on boxplots. The plots do not show outliers."
   ]
  },
  {
   "cell_type": "code",
   "execution_count": 16,
   "metadata": {
    "scrolled": true
   },
   "outputs": [
    {
     "data": {
      "image/png": "[encoded data removed]",
      "text/plain": [
       "<Figure size 432x288 with 2 Axes>"
      ]
     },
     "metadata": {
      "needs_background": "light"
     },
     "output_type": "display_data"
    }
   ],
   "source": [
    "# The code is similar to the one explained before, just adjusted by using different data.\n",
    "plt.subplot(1, 2, 1)\n",
    "plt.title('Traffic')\n",
    "TotalDriveTraffic['StdDev Jerk'].plot(kind='box')\n",
    "plt.subplot(1, 2, 2)\n",
    "plt.title('No Traffic')\n",
    "TotalDriveNoTraffic['StdDev Jerk'].plot(kind='box')\n",
    "plt.tight_layout()"
   ]
  },
  {
   "cell_type": "markdown",
   "metadata": {},
   "source": [
    "##### The data has to be tested for normal distribution. A Shapiro-Wilk-Test is used in order to test for normality. \n",
    "##### H0: The data is normally distributed.\n",
    "##### H1: The data is not normally distributed.\n",
    "##### The 0 hypothesis can be rejected if p < 0.1. An alpha of 0.1 is chosen because data was collected in a naturalistic setting with many uncontrollable factors.\n",
    "##### The null hypothesis cannot be rejected (p > 0.1). The data is normally distributed."
   ]
  },
  {
   "cell_type": "code",
   "execution_count": 17,
   "metadata": {},
   "outputs": [
    {
     "data": {
      "text/plain": [
       "(0.9445026516914368, 0.12028278410434723)"
      ]
     },
     "execution_count": 17,
     "metadata": {},
     "output_type": "execute_result"
    }
   ],
   "source": [
    "stats.shapiro(TotalDrive['StdDev Jerk'])"
   ]
  },
  {
   "cell_type": "markdown",
   "metadata": {},
   "source": [
    "#### The t-test is now comparing the standard deviations of jerk between the two scenarios.\n",
    "##### H0: The scenarios are not significantly different in terms of jerk.\n",
    "##### H1: The scenarios are significantly different in terms of jerk.\n",
    "##### The 0 hypothesis can be rejected if p < 0.1. An alpha of 0.1 is chosen because data was collected in a naturalistic setting with many uncontrollable factors.\n",
    "##### The null hypothesis can be rejected (p<0.1). The result shows that the standard deviations of acceleration between the two scenarios is  significantly different. Acceleration variation can proof that there are differences in traffic between the two scenarios."
   ]
  },
  {
   "cell_type": "code",
   "execution_count": 18,
   "metadata": {
    "scrolled": true
   },
   "outputs": [
    {
     "data": {
      "text/plain": [
       "Ttest_relResult(statistic=2.3397663988899153, pvalue=0.03463205381816001)"
      ]
     },
     "execution_count": 18,
     "metadata": {},
     "output_type": "execute_result"
    }
   ],
   "source": [
    " stats.ttest_rel(TotalDriveTraffic['StdDev Jerk'], TotalDriveNoTraffic['StdDev Jerk'])"
   ]
  },
  {
   "cell_type": "markdown",
   "metadata": {},
   "source": [
    "### It is proven that the two scenarios are significantly different based on different metrics."
   ]
  },
  {
   "cell_type": "markdown",
   "metadata": {},
   "source": [
    "### Creating a model in order to predict significant factors influencing electric vehicle efficiency\n",
    "#### All factors are tested for normal distribution in order to apply a multiple linear regression. Again, the sahpiro-wilk test is chosen. All factors are normally distributed (p > 0.1)."
   ]
  },
  {
   "cell_type": "code",
   "execution_count": 19,
   "metadata": {},
   "outputs": [
    {
     "name": "stdout",
     "output_type": "stream",
     "text": [
      "(0.9690912961959839, 0.5146192312240601)\n",
      "(0.9501591324806213, 0.1707274615764618)\n",
      "(0.9614428281784058, 0.33705100417137146)\n"
     ]
    }
   ],
   "source": [
    "print(stats.shapiro(TotalDrive['Temperature']))\n",
    "print(stats.shapiro(TotalDrive['Mean Consumption']))\n",
    "print(stats.shapiro(TotalDrive['Initial SOC']))"
   ]
  },
  {
   "cell_type": "markdown",
   "metadata": {},
   "source": [
    "#### In order to see how different the scenarios are in terms of avergae energy consumption, temperature, Initial SOC, they are plotted and compared visually for both scenatios. "
   ]
  },
  {
   "cell_type": "code",
   "execution_count": 20,
   "metadata": {},
   "outputs": [
    {
     "data": {
      "image/png": "[encoded data removed]",
      "text/plain": [
       "<Figure size 1008x612 with 4 Axes>"
      ]
     },
     "metadata": {
      "needs_background": "light"
     },
     "output_type": "display_data"
    }
   ],
   "source": [
    "%matplotlib inline\n",
    "# Four figures are plotted, two in each row\n",
    "fig, axs = plt.subplots(2, 2, figsize=(14, 8.5))\n",
    "# Plot of the Temperature over average consumption for drives in both scenarios using different colors in the upper left corner\n",
    "axs[0][0].plot('Mean Consumption', 'Temperature', 'X', data=TotalDriveTraffic)\n",
    "axs[0][0].plot('Mean Consumption', 'Temperature', 'X', data=TotalDriveNoTraffic)\n",
    "# Define the title for the plot in the upper left corner\n",
    "axs[0][0].set_title('Temperature over average consumption', loc=\"left\")\n",
    "# Add gridlines (https://towardsdatascience.com/customizing-plots-with-python-matplotlib-bcf02691931f)\n",
    "axs[0][0].grid(color='grey', linestyle='-', linewidth=0.25, alpha=0.5)\n",
    "# A legend is defined for better understanding. Orange indicates No Traffic Scenario, blue Traffic Scenario (https://matplotlib.org/3.1.1/api/_as_gen/matplotlib.pyplot.legend.html)\n",
    "axs[0][0].legend(['Traffic','No Traffic'])\n",
    "# The limits of the y-axis are defined to make figures in both scenarios more comparable\n",
    "axs[0][0].set_ylim(0, 15)\n",
    "\n",
    "\n",
    "# Plot of the Initial state of charge over average consumption for drives in both scenarios using different colors in the upper right corner\n",
    "# Orange indicates No Traffic Scenario, Blue Traffic Scenario\n",
    "axs[0][1].plot('Mean Consumption', 'Initial SOC', 'X', data=TotalDriveTraffic)\n",
    "axs[0][1].plot('Mean Consumption', 'Initial SOC', 'X', data=TotalDriveNoTraffic)\n",
    "# Define the title for the plot in the upper right corner\n",
    "axs[0][1].set_title('Initial SOC over average consumption', loc=\"left\")\n",
    "# Add gridlines (https://towardsdatascience.com/customizing-plots-with-python-matplotlib-bcf02691931f)\n",
    "axs[0][1].grid(color='grey', linestyle='-', linewidth=0.25, alpha=0.5)\n",
    "# A legend is defined for better understanding. Orange indicates No Traffic Scenario, blue Traffic Scenario (https://matplotlib.org/3.1.1/api/_as_gen/matplotlib.pyplot.legend.html)\n",
    "axs[0][1].legend(['Traffic','No Traffic'])\n",
    "# The limits of the y-axis are defined to make figures in both scenarios more comparable\n",
    "axs[0][1].set_ylim(20, 100)\n",
    "\n",
    "\n",
    "# Plot of the Standard Deviation of Acceleration over average consumption for drives in both scenarios using different colors in the lower left corner\n",
    "# Orange indicates No Traffic Scenario, Blue Traffic Scenario\n",
    "axs[1][0].plot('Mean Consumption', 'StdDev Acceleration', 'X', data=TotalDriveTraffic)\n",
    "axs[1][0].plot('Mean Consumption', 'StdDev Acceleration', 'X', data=TotalDriveNoTraffic)\n",
    "# Define the title for the plot in the lower left corner\n",
    "axs[1][0].set_title('Variation in Acceleration over average consumption', loc=\"left\")\n",
    "# Add gridlines (https://towardsdatascience.com/customizing-plots-with-python-matplotlib-bcf02691931f)\n",
    "axs[1][0].grid(color='grey', linestyle='-', linewidth=0.25, alpha=0.5)\n",
    "# A legend is defined for better understanding. Orange indicates No Traffic Scenario, blue Traffic Scenario (https://matplotlib.org/3.1.1/api/_as_gen/matplotlib.pyplot.legend.html)\n",
    "axs[1][0].legend(['Traffic','No Traffic'])\n",
    "\n",
    "\n",
    "# Plot of the Standard Deviation of Jerk over average consumption for drives in both scenarios using different colors in the lower right corner\n",
    "# Orange indicates No Traffic Scenario, Blue Traffic Scenario\n",
    "axs[1][1].plot('Mean Consumption', 'StdDev Jerk', 'X', data=TotalDriveTraffic)\n",
    "axs[1][1].plot('Mean Consumption', 'StdDev Jerk', 'X', data=TotalDriveNoTraffic)\n",
    "# Define the title for the plot in the lower right corner\n",
    "axs[1][1].set_title('Variation in Jerk over average consumption', loc=\"left\")\n",
    "# Add gridlines (https://towardsdatascience.com/customizing-plots-with-python-matplotlib-bcf02691931f)\n",
    "axs[1][1].grid(color='grey', linestyle='-', linewidth=0.25, alpha=0.5)\n",
    "# A legend is defined for better understanding. Orange indicates No Traffic Scenario, blue Traffic Scenario (https://matplotlib.org/3.1.1/api/_as_gen/matplotlib.pyplot.legend.html)\n",
    "axs[1][1].legend(['Traffic','No Traffic'])\n",
    "\n",
    "# Set main title for all plots in large letters\n",
    "plt.suptitle('Comparing energy consumptions of both scenarios through different factors', size='xx-large')\n",
    "\n",
    "# show plots\n",
    "plt.show()"
   ]
  },
  {
   "cell_type": "markdown",
   "metadata": {},
   "source": [
    "#### The plots show that there is are differences in the energy consumption for both scenarios. Additionally, it can be seen that outside temperature seems to have an influence on the energy consumption of electric vehicles. This can not be said about the initial state of charge (SOC). However, the upper right plot still shows the difference in average consumption between the two scenarios. This is especially visible due to the randomized SOC for the test drives. As shown thorugh the paired t-test before, variation in acceleration and jerk are different between the scenarios. This shows the difference in the intensity of traffic between the scenarios."
   ]
  },
  {
   "cell_type": "markdown",
   "metadata": {},
   "source": [
    "### Multiple Linear Regression\n",
    "#### A multiple linear regression is conducted where the average consumption of a drive is the predicted variable (y) and the predictors are Scenario (X1), Temperature (X2), and Initial SOC (X3). \n",
    "#### Since the scenario is categorical and not numeric, dummy variables have to be assigned (0 = The driver was not is driving in this scenario; 1 for the driver was driving in the scenario). The column In Traffic will be used as a factor in the linear regression (Driving in Traffic scenario = 1, Driving in No Traffic scenario = 0). Dummies can be assigned using get_dummies as seen below. The results are shown for the first 5 entries."
   ]
  },
  {
   "cell_type": "code",
   "execution_count": 21,
   "metadata": {
    "scrolled": true
   },
   "outputs": [],
   "source": [
    "# Source: https://towardsdatascience.com/the-dummys-guide-to-creating-dummy-variables-f21faddb1d40\n",
    "dummy = pd.get_dummies(TotalDrive['Type'])\n",
    "# Merge the two dataframes in order to add colums with the dummy variables\n",
    "TotalDrive = pd.concat([TotalDrive, dummy], axis=1)\n",
    "# Show first 5 rows to check if the merging worked\n",
    "TotalDrive.head()\n",
    "# Save final summary file\n",
    "TotalDrive.to_csv('../homework/OutputDataFinalProject'+'/'+'TotalDrive.csv')"
   ]
  },
  {
   "cell_type": "markdown",
   "metadata": {},
   "source": [
    "#### After assigning dummy variables, the multiple linear regression can be conducted."
   ]
  },
  {
   "cell_type": "code",
   "execution_count": 22,
   "metadata": {},
   "outputs": [
    {
     "name": "stderr",
     "output_type": "stream",
     "text": [
      "/Users/timjonas/opt/anaconda3/lib/python3.7/site-packages/numpy/core/fromnumeric.py:2495: FutureWarning: Method .ptp is deprecated and will be removed in a future version. Use numpy.ptp instead.\n",
      "  return ptp(axis=axis, out=out, **kwargs)\n"
     ]
    },
    {
     "data": {
      "text/html": [
       "<table class=\"simpletable\">\n",
       "<caption>OLS Regression Results</caption>\n",
       "<tr>\n",
       "  <th>Dep. Variable:</th>    <td>Mean Consumption</td> <th>  R-squared:         </th> <td>   0.502</td>\n",
       "</tr>\n",
       "<tr>\n",
       "  <th>Model:</th>                   <td>OLS</td>       <th>  Adj. R-squared:    </th> <td>   0.444</td>\n",
       "</tr>\n",
       "<tr>\n",
       "  <th>Method:</th>             <td>Least Squares</td>  <th>  F-statistic:       </th> <td>   8.733</td>\n",
       "</tr>\n",
       "<tr>\n",
       "  <th>Date:</th>             <td>Fri, 20 Dec 2019</td> <th>  Prob (F-statistic):</th> <td>0.000356</td>\n",
       "</tr>\n",
       "<tr>\n",
       "  <th>Time:</th>                 <td>12:51:18</td>     <th>  Log-Likelihood:    </th> <td>  210.33</td>\n",
       "</tr>\n",
       "<tr>\n",
       "  <th>No. Observations:</th>      <td>    30</td>      <th>  AIC:               </th> <td>  -412.7</td>\n",
       "</tr>\n",
       "<tr>\n",
       "  <th>Df Residuals:</th>          <td>    26</td>      <th>  BIC:               </th> <td>  -407.1</td>\n",
       "</tr>\n",
       "<tr>\n",
       "  <th>Df Model:</th>              <td>     3</td>      <th>                     </th>     <td> </td>   \n",
       "</tr>\n",
       "<tr>\n",
       "  <th>Covariance Type:</th>      <td>nonrobust</td>    <th>                     </th>     <td> </td>   \n",
       "</tr>\n",
       "</table>\n",
       "<table class=\"simpletable\">\n",
       "<tr>\n",
       "       <td></td>          <th>coef</th>     <th>std err</th>      <th>t</th>      <th>P>|t|</th>  <th>[0.025</th>    <th>0.975]</th>  \n",
       "</tr>\n",
       "<tr>\n",
       "  <th>const</th>       <td>    0.0025</td> <td>    0.000</td> <td>   16.642</td> <td> 0.000</td> <td>    0.002</td> <td>    0.003</td>\n",
       "</tr>\n",
       "<tr>\n",
       "  <th>In Traffic</th>  <td>    0.0002</td> <td> 8.93e-05</td> <td>    2.625</td> <td> 0.014</td> <td> 5.08e-05</td> <td>    0.000</td>\n",
       "</tr>\n",
       "<tr>\n",
       "  <th>Temperature</th> <td>-3.662e-05</td> <td> 1.09e-05</td> <td>   -3.347</td> <td> 0.002</td> <td>-5.91e-05</td> <td>-1.41e-05</td>\n",
       "</tr>\n",
       "<tr>\n",
       "  <th>Initial SOC</th> <td> 1.271e-06</td> <td> 1.98e-06</td> <td>    0.642</td> <td> 0.527</td> <td> -2.8e-06</td> <td> 5.34e-06</td>\n",
       "</tr>\n",
       "</table>\n",
       "<table class=\"simpletable\">\n",
       "<tr>\n",
       "  <th>Omnibus:</th>       <td> 2.178</td> <th>  Durbin-Watson:     </th> <td>   1.911</td>\n",
       "</tr>\n",
       "<tr>\n",
       "  <th>Prob(Omnibus):</th> <td> 0.337</td> <th>  Jarque-Bera (JB):  </th> <td>   1.184</td>\n",
       "</tr>\n",
       "<tr>\n",
       "  <th>Skew:</th>          <td>-0.031</td> <th>  Prob(JB):          </th> <td>   0.553</td>\n",
       "</tr>\n",
       "<tr>\n",
       "  <th>Kurtosis:</th>      <td> 2.029</td> <th>  Cond. No.          </th> <td>    245.</td>\n",
       "</tr>\n",
       "</table><br/><br/>Warnings:<br/>[1] Standard Errors assume that the covariance matrix of the errors is correctly specified."
      ],
      "text/plain": [
       "<class 'statsmodels.iolib.summary.Summary'>\n",
       "\"\"\"\n",
       "                            OLS Regression Results                            \n",
       "==============================================================================\n",
       "Dep. Variable:       Mean Consumption   R-squared:                       0.502\n",
       "Model:                            OLS   Adj. R-squared:                  0.444\n",
       "Method:                 Least Squares   F-statistic:                     8.733\n",
       "Date:                Fri, 20 Dec 2019   Prob (F-statistic):           0.000356\n",
       "Time:                        12:51:18   Log-Likelihood:                 210.33\n",
       "No. Observations:                  30   AIC:                            -412.7\n",
       "Df Residuals:                      26   BIC:                            -407.1\n",
       "Df Model:                           3                                         \n",
       "Covariance Type:            nonrobust                                         \n",
       "===============================================================================\n",
       "                  coef    std err          t      P>|t|      [0.025      0.975]\n",
       "-------------------------------------------------------------------------------\n",
       "const           0.0025      0.000     16.642      0.000       0.002       0.003\n",
       "In Traffic      0.0002   8.93e-05      2.625      0.014    5.08e-05       0.000\n",
       "Temperature -3.662e-05   1.09e-05     -3.347      0.002   -5.91e-05   -1.41e-05\n",
       "Initial SOC  1.271e-06   1.98e-06      0.642      0.527    -2.8e-06    5.34e-06\n",
       "==============================================================================\n",
       "Omnibus:                        2.178   Durbin-Watson:                   1.911\n",
       "Prob(Omnibus):                  0.337   Jarque-Bera (JB):                1.184\n",
       "Skew:                          -0.031   Prob(JB):                        0.553\n",
       "Kurtosis:                       2.029   Cond. No.                         245.\n",
       "==============================================================================\n",
       "\n",
       "Warnings:\n",
       "[1] Standard Errors assume that the covariance matrix of the errors is correctly specified.\n",
       "\"\"\""
      ]
     },
     "execution_count": 22,
     "metadata": {},
     "output_type": "execute_result"
    }
   ],
   "source": [
    "# Define the predictors (i.e., Scenario, Temperature, Initial SOC)\n",
    "x = sm.add_constant(TotalDrive[['In Traffic', 'Temperature', 'Initial SOC']])\n",
    "# Define the predicted variable (i.e., Mean Consumption)\n",
    "y = TotalDrive['Mean Consumption']\n",
    "# Fit linear model\n",
    "lmDrive = sm.OLS(y, x).fit()\n",
    "# Show Summary of the model and ANOVA table\n",
    "lmDrive.summary()"
   ]
  },
  {
   "cell_type": "markdown",
   "metadata": {},
   "source": [
    "#### The results of the multiple linear regression shows a significance of the factors Traffic and Temperature (p<0.05). Initial State of Charge instead is not significant as expected prior to the investigation (p = 0.527). Driving in traffic increases the consumption by 0.0002 kWh/mile compared to driving in the no traffic scenario. The coefficient of determination (R-squared) has a value of 0.444 which means that the model is predicting the response variable y with an accuracy of 44.4%. This sounds small but considering many other factors like driver, humidity, brightness, etc., it is an acceptable value in a naturalistic setting.\n",
    "#### **Average Consumption(Traffic, Temperature, Initial SOC) = 0.0025 + 0.0002Traffic - 3.662e-05Temperature + 1.271e-06Initial SOC**"
   ]
  },
  {
   "cell_type": "code",
   "execution_count": 23,
   "metadata": {
    "scrolled": true
   },
   "outputs": [
    {
     "data": {
      "image/png": "[encoded data removed]",
      "text/plain": [
       "<Figure size 432x144 with 1 Axes>"
      ]
     },
     "metadata": {
      "needs_background": "light"
     },
     "output_type": "display_data"
    },
    {
     "data": {
      "image/png": "[encoded data removed]",
      "text/plain": [
       "<Figure size 432x144 with 1 Axes>"
      ]
     },
     "metadata": {
      "needs_background": "light"
     },
     "output_type": "display_data"
    },
    {
     "data": {
      "image/png": "[encoded data removed]",
      "text/plain": [
       "<Figure size 432x144 with 1 Axes>"
      ]
     },
     "metadata": {
      "needs_background": "light"
     },
     "output_type": "display_data"
    },
    {
     "data": {
      "image/png": "[encoded data removed]",
      "text/plain": [
       "<Figure size 432x144 with 1 Axes>"
      ]
     },
     "metadata": {
      "needs_background": "light"
     },
     "output_type": "display_data"
    },
    {
     "name": "stdout",
     "output_type": "stream",
     "text": [
      "2.47198095326695e-18\n"
     ]
    }
   ],
   "source": [
    "for x in (['In Traffic', 'Temperature', 'Initial SOC']):\n",
    "    #Define Size\n",
    "    plt.figure(figsize=(6,2))\n",
    "    sns.scatterplot(TotalDrive[x], lmDrive.resid)\n",
    "    #Define title \n",
    "    plt.title(\"Residuals by %s\" % x)\n",
    "    # Define limits on y-axis\n",
    "    plt.ylim(-0.001, 0.001)\n",
    "    #Put a horizontal line through the mean of the predictions.\n",
    "    plt.axhline(np.mean(lmDrive.resid))\n",
    "    #Show Plot\n",
    "    plt.show()\n",
    "# Define size\n",
    "plt.figure(figsize=(6,2))\n",
    "sns.scatterplot(lmDrive.predict(), lmDrive.resid)\n",
    "#Define title\n",
    "plt.title(\"Residuals by Predicted Value\")\n",
    "# Define limits on y-axis\n",
    "plt.ylim(-0.001, 0.001)\n",
    "# Define limits on x-axis\n",
    "plt.xlim(0.002, 0.003)\n",
    "#Put a horizontal line through the mean of the predictions.\n",
    "plt.axhline(np.mean(lmDrive.resid))\n",
    "# Plot\n",
    "plt.show()\n",
    "# print mean value of residuals\n",
    "print(np.mean(lmDrive.resid))"
   ]
  },
  {
   "cell_type": "markdown",
   "metadata": {},
   "source": [
    "#### The residual plots for all factors and the predicted value are uniformly distributed. There are no patterns visible."
   ]
  },
  {
   "cell_type": "markdown",
   "metadata": {},
   "source": [
    "## 4. Results\n",
    "#### It can be stated that the traffic and temperature have an influence on the avergage consumption (kWh/mile) of electric vehicles. As expected, initial SOC has no significant impact."
   ]
  }
 ],
 "metadata": {
  "kernelspec": {
   "display_name": "Python 3",
   "language": "python",
   "name": "python3"
  },
  "language_info": {
   "codemirror_mode": {
    "name": "ipython",
    "version": 3
   },
   "file_extension": ".py",
   "mimetype": "text/x-python",
   "name": "python",
   "nbconvert_exporter": "python",
   "pygments_lexer": "ipython3",
   "version": "3.7.4"
  }
 },
 "nbformat": 4,
 "nbformat_minor": 4
}
