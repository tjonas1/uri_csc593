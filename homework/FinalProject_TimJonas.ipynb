{
 "cells": [
  {
   "cell_type": "markdown",
   "metadata": {},
   "source": [
    "# University of Rhode Island\n",
    "# Final Project CSC 593, Programming for Scientists, Fall 2019\n",
    "## Tim Jonas"
   ]
  },
  {
   "cell_type": "markdown",
   "metadata": {},
   "source": [
    "### Load Packages"
   ]
  },
  {
   "cell_type": "code",
   "execution_count": 5,
   "metadata": {},
   "outputs": [],
   "source": [
    "import numpy as np\n",
    "import pandas as pd\n",
    "import os\n",
    "from datetime import datetime, timedelta"
   ]
  },
  {
   "cell_type": "markdown",
   "metadata": {},
   "source": [
    "### Remove or Replace unwanted characters\n",
    "#### A function is defined below that removes respectively replaces unwanted characters from Columns. The initial files as downloaded from the fleetcarma website contained parentheses that are difficult to work with in the code. The function is called \"Renamer\" and can be used for every driving log."
   ]
  },
  {
   "cell_type": "code",
   "execution_count": 6,
   "metadata": {},
   "outputs": [],
   "source": [
    "# Remove unwanted characters from Columns\n",
    "def renamer(df):\n",
    "    drive = df.copy()\n",
    "    drive.columns = drive.columns.str.replace(\"[\", \"_\")\n",
    "    drive.columns = drive.columns.str.replace(\"]\",\"\")\n",
    "    drive.columns = drive.columns.str.replace(\"(\", \"_\")\n",
    "    drive.columns = drive.columns.str.replace(\")\",\"\")\n",
    "    drive.columns = drive.columns.str.replace(\"/\",\"\")\n",
    "    drive.columns = drive.columns.str.replace(\"%\",\"Pctg\")\n",
    "    \n",
    "    return drive"
   ]
  },
  {
   "cell_type": "markdown",
   "metadata": {},
   "source": [
    "### Create a list with all files in the the input folder\n",
    "#### All driving log files are in the folder \"InputDataFinalProject\". The following code creates a list with all .csv files in the directory. This list is later used for a function that loops through every single file in the directory respectively on the list."
   ]
  },
  {
   "cell_type": "code",
   "execution_count": 9,
   "metadata": {},
   "outputs": [
    {
     "name": "stdout",
     "output_type": "stream",
     "text": [
      "2018-11-29T20-34-18.csv\n",
      "2018-11-30T15-03-05.csv\n",
      "2018-11-14T12-52-06.csv\n",
      "2018-11-27T15-53-11.csv\n",
      "2018-11-05T21-05-26.csv\n",
      "2018-11-19T13-01-20_run2.csv\n",
      "2018-11-27T16-49-43_run2.csv\n",
      "2018-11-14T19-54-58.csv\n",
      "2018-11-19T13-01-20_run1.csv\n",
      "2018-11-27T16-49-43_run1.csv\n",
      "2018-11-08T15-16-59.csv\n",
      "2018-11-15T16-47-06.csv\n",
      "2018-12-04T12-46-28_run1.csv\n",
      "2018-12-04T12-46-28_run2.csv\n",
      "2018-11-15T12-47-44.csv\n",
      "2018-11-08T13-19-45.csv\n",
      "2018-11-15T13-37-51.csv\n",
      "2018-11-28T12-26-14.csv\n",
      "2018-11-14T20-49-28.csv\n",
      "2018-11-07T19-48-33.csv\n",
      "2018-11-28T13-17-30.csv\n",
      "2018-11-07T13-22-03.csv\n",
      "2018-11-21T15-57-44.csv\n",
      "2018-11-26T12-34-09.csv\n",
      "2018-11-29T12-35-21.csv\n",
      "2018-11-30T15-54-22.csv\n",
      "2018-11-14T13-37-37.csv\n",
      "2018-11-21T13-08-24.csv\n",
      "2018-11-26T19-23-11.csv\n",
      "2018-11-29T19-33-55.csv\n"
     ]
    }
   ],
   "source": [
    "# Print all filenames contained in the folder if it is a .csv file. This is just for controlling reasons.\n",
    "for filename in os.listdir('../homework/InputDataFinalProject'):\n",
    "    if filename.endswith(\".csv\"): \n",
    "        print(filename)\n",
    "# This function adds the name of every file in the directory that ends with \".csv\" to the list \"fileList\". Initially the list is empty and will be filled with the filenames after.\n",
    "def getFiles():\n",
    "    fileList = []\n",
    "    for filename in os.listdir('../homework/InputDataFinalProject'):\n",
    "        if filename.endswith(\".csv\"):\n",
    "            fileList.append(filename)\n",
    "    \n",
    "    return fileList\n"
   ]
  },
  {
   "cell_type": "markdown",
   "metadata": {},
   "source": [
    "### Create file with summary data"
   ]
  },
  {
   "cell_type": "code",
   "execution_count": 39,
   "metadata": {},
   "outputs": [],
   "source": [
    "columns = ['Workbookname','Date','Time','Type','Total Consumption (kWh)','Distance','Mean Consumption','Total Time (ms)','Average Speed','StdDev Speed','Average Acceleration','StdDev Acceleration','Average Jerk','StdDev Jerk','Initial SOC','Temperature']\n",
    "TotalDrive = pd.DataFrame(columns = columns)"
   ]
  },
  {
   "cell_type": "markdown",
   "metadata": {},
   "source": [
    "### Loop through all files in the input folder and do all calculations"
   ]
  },
  {
   "cell_type": "code",
   "execution_count": 40,
   "metadata": {},
   "outputs": [
    {
     "name": "stdout",
     "output_type": "stream",
     "text": [
      "0\n",
      "1\n",
      "2\n",
      "3\n",
      "4\n",
      "5\n",
      "6\n",
      "7\n",
      "8\n",
      "9\n",
      "10\n",
      "11\n",
      "12\n",
      "13\n",
      "14\n",
      "15\n",
      "16\n",
      "17\n",
      "18\n",
      "19\n",
      "20\n",
      "21\n",
      "22\n",
      "23\n",
      "24\n",
      "25\n",
      "26\n",
      "27\n",
      "28\n",
      "29\n"
     ]
    }
   ],
   "source": [
    "fileList = getFiles()\n",
    "\n",
    "\n",
    "for i in range(len(fileList)):\n",
    "    drive = pd.read_csv('../homework/InputDataFinalProject'+'/'+fileList[i], skiprows= 5, header=0)\n",
    "    drive = renamer(drive)\n",
    "    drive = drive[drive.Longitude_deg != 0]\n",
    "    # Calculations\n",
    "    # Add column with speed as m_s\n",
    "    drive['Vehicle Speed_m_s'] = drive['Vehicle Speed_kmh']/3.6\n",
    "    # Add column with Acceleration\n",
    "    drive['Vehicle Acceleration'] = drive['Vehicle Speed_m_s'] - drive['Vehicle Speed_m_s'].shift()\n",
    "    # Add Column with Jerk\n",
    "    drive['Vehicle Jerk'] = drive['Vehicle Acceleration'] - drive['Vehicle Acceleration'].shift()\n",
    "    # Add column with distance travelled in that second\n",
    "    drive['Dist_in_s'] = drive['Vehicle Speed_m_s']/1609.344\n",
    "    # Add column with cumulative distance\n",
    "    drive['Cumsum_Dist'] = drive['Dist_in_s'].cumsum()\n",
    "    # Consumption for every second\n",
    "    drive['kwh'] = ((drive['HV Battery Current_A'] * drive['HV Battery Voltage_V']*-1)/1000/3600)\n",
    "    # Add column with distance to start point\n",
    "    drive['Start_Cut'] = ((drive['Latitude_deg']-41.489207)**2)+((drive['Longitude_deg']+71.521673)**2)\n",
    "    drive['Start_Cut']=np.sqrt((drive['Start_Cut']))\n",
    "    # Add column with distance to end point\n",
    "    drive['End_Cut'] = ((drive['Latitude_deg']-41.480337)**2)+((drive['Longitude_deg']+71.525495)**2)\n",
    "    drive['End_Cut']=np.sqrt((drive['End_Cut']))\n",
    "    drive.truncate(drive['Start_Cut'].idxmin(),drive['End_Cut'].idxmin())\n",
    "    \n",
    "    # Correcting and adding Date/Hour\n",
    "    # Correct format for Date and Hour\n",
    "    A = fileList[i] # At first is a str\n",
    "    A = A.replace('T',' ')\n",
    "    B = A[0:11]\n",
    "    C = A[11:19]\n",
    "    C = C.replace('-',':')\n",
    "    D = B+C\n",
    "\n",
    "    DateHour = datetime.strptime(D, \"%Y-%m-%d %H:%M:%S\") # Convert to datetime\n",
    "    Date = DateHour.strftime('%Y-%m-%d') # Split only the Date and convert to str again\n",
    "    CorrectHour = DateHour - timedelta(hours=5) # Minus 4 hours\n",
    "    Hour = CorrectHour.strftime('%H:%M:%S') # Split only the Date and convert to str again\n",
    "    \n",
    "    hour = datetime.strptime(Hour,'%H:%M:%S')\n",
    "    InicioTraffic = datetime.strptime(\"07:00:00\", \"%H:%M:%S\")\n",
    "    FinTraffic = datetime.strptime(\"09:00:00\", \"%H:%M:%S\")\n",
    " \n",
    "    if hour >= InicioTraffic and hour <= FinTraffic:\n",
    "        Type = \"Traffic\"\n",
    "    else:\n",
    "        Type = \"Non Traffic\"\n",
    "\n",
    "    \n",
    "    TotalDrive = TotalDrive.append({'Workbookname' : fileList[i], 'Date' : Date, 'Time' : Hour, 'Type' : Type, 'Total Consumption (kWh)' : drive['kwh'].sum(), 'Distance' : drive.iloc[-1]['Cumsum_Dist'], 'Mean Consumption' : drive['kwh'].mean(), 'Average Speed' : drive['Vehicle Speed_kmh'].mean(), 'StdDev Speed' : drive['Vehicle Speed_kmh'].std(), 'Average Acceleration' : drive['Vehicle Acceleration'].mean(), 'StdDev Acceleration' : drive['Vehicle Acceleration'].std(), 'Average Jerk' : drive['Vehicle Jerk'].mean(), 'StdDev Jerk' : drive['Vehicle Jerk'].std(), 'Total Time (ms)' : drive.iloc[-1]['Timestamp_ms'] - drive.iloc[0]['Timestamp_ms'], 'Initial SOC' : drive.iloc[0]['HV Battery SOC_Pctg'], 'Temperature' : drive['OAT_degC'].mean()} , ignore_index=True)\n",
    "    # drive.to_csv('../homework/OutputDataFinalProject'+'/'+fileList[i])"
   ]
  },
  {
   "cell_type": "code",
   "execution_count": null,
   "metadata": {},
   "outputs": [],
   "source": []
  }
 ],
 "metadata": {
  "kernelspec": {
   "display_name": "Python 3",
   "language": "python",
   "name": "python3"
  },
  "language_info": {
   "codemirror_mode": {
    "name": "ipython",
    "version": 3
   },
   "file_extension": ".py",
   "mimetype": "text/x-python",
   "name": "python",
   "nbconvert_exporter": "python",
   "pygments_lexer": "ipython3",
   "version": "3.7.4"
  }
 },
 "nbformat": 4,
 "nbformat_minor": 4
}
