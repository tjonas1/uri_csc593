{
 "cells": [
  {
   "cell_type": "markdown",
   "metadata": {},
   "source": [
    "# Assignment 10\n",
    "\n",
    "*(Due Saturday, November 30, 2019 at noon.)*"
   ]
  },
  {
   "cell_type": "code",
   "execution_count": 78,
   "metadata": {},
   "outputs": [],
   "source": [
    "#### LOAD PACKAGES \n",
    "import pandas as pd\n",
    "import numpy as np\n",
    "import statsmodels.api as sm\n",
    "import seaborn as sns\n",
    "import scipy.stats as stats\n",
    "import matplotlib.pyplot as plt\n",
    "\n",
    "#Graphics settings\n",
    "%matplotlib inline\n",
    "sns.set()"
   ]
  },
  {
   "cell_type": "code",
   "execution_count": 79,
   "metadata": {},
   "outputs": [
    {
     "data": {
      "text/html": [
       "<div>\n",
       "<style scoped>\n",
       "    .dataframe tbody tr th:only-of-type {\n",
       "        vertical-align: middle;\n",
       "    }\n",
       "\n",
       "    .dataframe tbody tr th {\n",
       "        vertical-align: top;\n",
       "    }\n",
       "\n",
       "    .dataframe thead th {\n",
       "        text-align: right;\n",
       "    }\n",
       "</style>\n",
       "<table border=\"1\" class=\"dataframe\">\n",
       "  <thead>\n",
       "    <tr style=\"text-align: right;\">\n",
       "      <th></th>\n",
       "      <th>total_bill</th>\n",
       "      <th>tip</th>\n",
       "      <th>sex</th>\n",
       "      <th>smoker</th>\n",
       "      <th>day</th>\n",
       "      <th>time</th>\n",
       "      <th>size</th>\n",
       "    </tr>\n",
       "  </thead>\n",
       "  <tbody>\n",
       "    <tr>\n",
       "      <td>0</td>\n",
       "      <td>16.99</td>\n",
       "      <td>1.01</td>\n",
       "      <td>Female</td>\n",
       "      <td>No</td>\n",
       "      <td>Sun</td>\n",
       "      <td>Dinner</td>\n",
       "      <td>2</td>\n",
       "    </tr>\n",
       "    <tr>\n",
       "      <td>1</td>\n",
       "      <td>10.34</td>\n",
       "      <td>1.66</td>\n",
       "      <td>Male</td>\n",
       "      <td>No</td>\n",
       "      <td>Sun</td>\n",
       "      <td>Dinner</td>\n",
       "      <td>3</td>\n",
       "    </tr>\n",
       "    <tr>\n",
       "      <td>2</td>\n",
       "      <td>21.01</td>\n",
       "      <td>3.50</td>\n",
       "      <td>Male</td>\n",
       "      <td>No</td>\n",
       "      <td>Sun</td>\n",
       "      <td>Dinner</td>\n",
       "      <td>3</td>\n",
       "    </tr>\n",
       "    <tr>\n",
       "      <td>3</td>\n",
       "      <td>23.68</td>\n",
       "      <td>3.31</td>\n",
       "      <td>Male</td>\n",
       "      <td>No</td>\n",
       "      <td>Sun</td>\n",
       "      <td>Dinner</td>\n",
       "      <td>2</td>\n",
       "    </tr>\n",
       "    <tr>\n",
       "      <td>4</td>\n",
       "      <td>24.59</td>\n",
       "      <td>3.61</td>\n",
       "      <td>Female</td>\n",
       "      <td>No</td>\n",
       "      <td>Sun</td>\n",
       "      <td>Dinner</td>\n",
       "      <td>4</td>\n",
       "    </tr>\n",
       "  </tbody>\n",
       "</table>\n",
       "</div>"
      ],
      "text/plain": [
       "   total_bill   tip     sex smoker  day    time  size\n",
       "0       16.99  1.01  Female     No  Sun  Dinner     2\n",
       "1       10.34  1.66    Male     No  Sun  Dinner     3\n",
       "2       21.01  3.50    Male     No  Sun  Dinner     3\n",
       "3       23.68  3.31    Male     No  Sun  Dinner     2\n",
       "4       24.59  3.61  Female     No  Sun  Dinner     4"
      ]
     },
     "execution_count": 79,
     "metadata": {},
     "output_type": "execute_result"
    }
   ],
   "source": [
    "tips = sns.load_dataset('tips')\n",
    "tips.head()"
   ]
  },
  {
   "cell_type": "markdown",
   "metadata": {},
   "source": [
    "1) Create a linear regression model to predict `tips.tip` from the other variables in the `tips` dataset. Print the model's `summary()`.\n",
    "\n",
    "\n",
    "\n",
    "**Hints:**\n",
    "1. You'll need to create dummy variables for `Day`, if you use it. `sex`, `time` and `smoker` can just be converted to integer (0 or 1) fields.\n",
    "2. Try creating a scatterplot matrix (see Seaborn's [`.pairplot()`](https://seaborn.pydata.org/generated/seaborn.pairplot.html) function) to help decide which variables are likely to be useful."
   ]
  },
  {
   "cell_type": "code",
   "execution_count": 80,
   "metadata": {},
   "outputs": [],
   "source": [
    "# Add columns that make 'sex', 'smoker', and 'time' binary\n",
    "tips['sex_male']=(tips.sex=='Male').astype(np.int16)\n",
    "tips['smoker_true']=(tips.smoker=='Yes').astype(np.int16)\n",
    "tips['time_dinner']=(tips.time=='Dinner').astype(np.int16)\n",
    "# Create dummy variables for 'day'\n",
    "tips = pd.get_dummies(tips, columns=['day'])"
   ]
  },
  {
   "cell_type": "code",
   "execution_count": 81,
   "metadata": {},
   "outputs": [
    {
     "data": {
      "text/html": [
       "<div>\n",
       "<style scoped>\n",
       "    .dataframe tbody tr th:only-of-type {\n",
       "        vertical-align: middle;\n",
       "    }\n",
       "\n",
       "    .dataframe tbody tr th {\n",
       "        vertical-align: top;\n",
       "    }\n",
       "\n",
       "    .dataframe thead th {\n",
       "        text-align: right;\n",
       "    }\n",
       "</style>\n",
       "<table border=\"1\" class=\"dataframe\">\n",
       "  <thead>\n",
       "    <tr style=\"text-align: right;\">\n",
       "      <th></th>\n",
       "      <th>total_bill</th>\n",
       "      <th>tip</th>\n",
       "      <th>sex</th>\n",
       "      <th>smoker</th>\n",
       "      <th>time</th>\n",
       "      <th>size</th>\n",
       "      <th>sex_male</th>\n",
       "      <th>smoker_true</th>\n",
       "      <th>time_dinner</th>\n",
       "      <th>day_Thur</th>\n",
       "      <th>day_Fri</th>\n",
       "      <th>day_Sat</th>\n",
       "      <th>day_Sun</th>\n",
       "    </tr>\n",
       "  </thead>\n",
       "  <tbody>\n",
       "    <tr>\n",
       "      <td>0</td>\n",
       "      <td>16.99</td>\n",
       "      <td>1.01</td>\n",
       "      <td>Female</td>\n",
       "      <td>No</td>\n",
       "      <td>Dinner</td>\n",
       "      <td>2</td>\n",
       "      <td>0</td>\n",
       "      <td>0</td>\n",
       "      <td>1</td>\n",
       "      <td>0</td>\n",
       "      <td>0</td>\n",
       "      <td>0</td>\n",
       "      <td>1</td>\n",
       "    </tr>\n",
       "    <tr>\n",
       "      <td>1</td>\n",
       "      <td>10.34</td>\n",
       "      <td>1.66</td>\n",
       "      <td>Male</td>\n",
       "      <td>No</td>\n",
       "      <td>Dinner</td>\n",
       "      <td>3</td>\n",
       "      <td>1</td>\n",
       "      <td>0</td>\n",
       "      <td>1</td>\n",
       "      <td>0</td>\n",
       "      <td>0</td>\n",
       "      <td>0</td>\n",
       "      <td>1</td>\n",
       "    </tr>\n",
       "    <tr>\n",
       "      <td>2</td>\n",
       "      <td>21.01</td>\n",
       "      <td>3.50</td>\n",
       "      <td>Male</td>\n",
       "      <td>No</td>\n",
       "      <td>Dinner</td>\n",
       "      <td>3</td>\n",
       "      <td>1</td>\n",
       "      <td>0</td>\n",
       "      <td>1</td>\n",
       "      <td>0</td>\n",
       "      <td>0</td>\n",
       "      <td>0</td>\n",
       "      <td>1</td>\n",
       "    </tr>\n",
       "    <tr>\n",
       "      <td>3</td>\n",
       "      <td>23.68</td>\n",
       "      <td>3.31</td>\n",
       "      <td>Male</td>\n",
       "      <td>No</td>\n",
       "      <td>Dinner</td>\n",
       "      <td>2</td>\n",
       "      <td>1</td>\n",
       "      <td>0</td>\n",
       "      <td>1</td>\n",
       "      <td>0</td>\n",
       "      <td>0</td>\n",
       "      <td>0</td>\n",
       "      <td>1</td>\n",
       "    </tr>\n",
       "    <tr>\n",
       "      <td>4</td>\n",
       "      <td>24.59</td>\n",
       "      <td>3.61</td>\n",
       "      <td>Female</td>\n",
       "      <td>No</td>\n",
       "      <td>Dinner</td>\n",
       "      <td>4</td>\n",
       "      <td>0</td>\n",
       "      <td>0</td>\n",
       "      <td>1</td>\n",
       "      <td>0</td>\n",
       "      <td>0</td>\n",
       "      <td>0</td>\n",
       "      <td>1</td>\n",
       "    </tr>\n",
       "  </tbody>\n",
       "</table>\n",
       "</div>"
      ],
      "text/plain": [
       "   total_bill   tip     sex smoker    time  size  sex_male  smoker_true  \\\n",
       "0       16.99  1.01  Female     No  Dinner     2         0            0   \n",
       "1       10.34  1.66    Male     No  Dinner     3         1            0   \n",
       "2       21.01  3.50    Male     No  Dinner     3         1            0   \n",
       "3       23.68  3.31    Male     No  Dinner     2         1            0   \n",
       "4       24.59  3.61  Female     No  Dinner     4         0            0   \n",
       "\n",
       "   time_dinner  day_Thur  day_Fri  day_Sat  day_Sun  \n",
       "0            1         0        0        0        1  \n",
       "1            1         0        0        0        1  \n",
       "2            1         0        0        0        1  \n",
       "3            1         0        0        0        1  \n",
       "4            1         0        0        0        1  "
      ]
     },
     "execution_count": 81,
     "metadata": {},
     "output_type": "execute_result"
    }
   ],
   "source": [
    "tips.head()"
   ]
  },
  {
   "cell_type": "code",
   "execution_count": 64,
   "metadata": {},
   "outputs": [
    {
     "data": {
      "text/plain": [
       "total_bill      float64\n",
       "tip             float64\n",
       "sex            category\n",
       "smoker         category\n",
       "day            category\n",
       "time           category\n",
       "size              int64\n",
       "sex_male          int16\n",
       "smoker_true       int16\n",
       "time_dinner       int16\n",
       "dtype: object"
      ]
     },
     "execution_count": 64,
     "metadata": {},
     "output_type": "execute_result"
    }
   ],
   "source": [
    "tips.dtypes"
   ]
  },
  {
   "cell_type": "code",
   "execution_count": 84,
   "metadata": {},
   "outputs": [
    {
     "data": {
      "text/html": [
       "<table class=\"simpletable\">\n",
       "<caption>OLS Regression Results</caption>\n",
       "<tr>\n",
       "  <th>Dep. Variable:</th>           <td>tip</td>       <th>  R-squared:         </th> <td>   0.470</td>\n",
       "</tr>\n",
       "<tr>\n",
       "  <th>Model:</th>                   <td>OLS</td>       <th>  Adj. R-squared:    </th> <td>   0.452</td>\n",
       "</tr>\n",
       "<tr>\n",
       "  <th>Method:</th>             <td>Least Squares</td>  <th>  F-statistic:       </th> <td>   26.06</td>\n",
       "</tr>\n",
       "<tr>\n",
       "  <th>Date:</th>             <td>Mon, 25 Nov 2019</td> <th>  Prob (F-statistic):</th> <td>1.20e-28</td>\n",
       "</tr>\n",
       "<tr>\n",
       "  <th>Time:</th>                 <td>18:15:09</td>     <th>  Log-Likelihood:    </th> <td> -347.48</td>\n",
       "</tr>\n",
       "<tr>\n",
       "  <th>No. Observations:</th>      <td>   244</td>      <th>  AIC:               </th> <td>   713.0</td>\n",
       "</tr>\n",
       "<tr>\n",
       "  <th>Df Residuals:</th>          <td>   235</td>      <th>  BIC:               </th> <td>   744.4</td>\n",
       "</tr>\n",
       "<tr>\n",
       "  <th>Df Model:</th>              <td>     8</td>      <th>                     </th>     <td> </td>   \n",
       "</tr>\n",
       "<tr>\n",
       "  <th>Covariance Type:</th>      <td>nonrobust</td>    <th>                     </th>     <td> </td>   \n",
       "</tr>\n",
       "</table>\n",
       "<table class=\"simpletable\">\n",
       "<tr>\n",
       "       <td></td>          <th>coef</th>     <th>std err</th>      <th>t</th>      <th>P>|t|</th>  <th>[0.025</th>    <th>0.975]</th>  \n",
       "</tr>\n",
       "<tr>\n",
       "  <th>const</th>       <td>    0.6357</td> <td>    0.294</td> <td>    2.162</td> <td> 0.032</td> <td>    0.056</td> <td>    1.215</td>\n",
       "</tr>\n",
       "<tr>\n",
       "  <th>total_bill</th>  <td>    0.0945</td> <td>    0.010</td> <td>    9.841</td> <td> 0.000</td> <td>    0.076</td> <td>    0.113</td>\n",
       "</tr>\n",
       "<tr>\n",
       "  <th>sex_male</th>    <td>   -0.0324</td> <td>    0.142</td> <td>   -0.229</td> <td> 0.819</td> <td>   -0.311</td> <td>    0.247</td>\n",
       "</tr>\n",
       "<tr>\n",
       "  <th>smoker_true</th> <td>   -0.0864</td> <td>    0.147</td> <td>   -0.589</td> <td> 0.556</td> <td>   -0.375</td> <td>    0.202</td>\n",
       "</tr>\n",
       "<tr>\n",
       "  <th>time_dinner</th> <td>   -0.0681</td> <td>    0.445</td> <td>   -0.153</td> <td> 0.878</td> <td>   -0.944</td> <td>    0.808</td>\n",
       "</tr>\n",
       "<tr>\n",
       "  <th>size</th>        <td>    0.1760</td> <td>    0.090</td> <td>    1.966</td> <td> 0.051</td> <td>   -0.000</td> <td>    0.352</td>\n",
       "</tr>\n",
       "<tr>\n",
       "  <th>day_Thur</th>    <td>    0.0740</td> <td>    0.260</td> <td>    0.284</td> <td> 0.776</td> <td>   -0.438</td> <td>    0.586</td>\n",
       "</tr>\n",
       "<tr>\n",
       "  <th>day_Fri</th>     <td>    0.2362</td> <td>    0.208</td> <td>    1.134</td> <td> 0.258</td> <td>   -0.174</td> <td>    0.647</td>\n",
       "</tr>\n",
       "<tr>\n",
       "  <th>day_Sat</th>     <td>    0.1148</td> <td>    0.239</td> <td>    0.481</td> <td> 0.631</td> <td>   -0.355</td> <td>    0.585</td>\n",
       "</tr>\n",
       "<tr>\n",
       "  <th>day_Sun</th>     <td>    0.2107</td> <td>    0.245</td> <td>    0.860</td> <td> 0.390</td> <td>   -0.272</td> <td>    0.693</td>\n",
       "</tr>\n",
       "</table>\n",
       "<table class=\"simpletable\">\n",
       "<tr>\n",
       "  <th>Omnibus:</th>       <td>27.860</td> <th>  Durbin-Watson:     </th> <td>   2.096</td>\n",
       "</tr>\n",
       "<tr>\n",
       "  <th>Prob(Omnibus):</th> <td> 0.000</td> <th>  Jarque-Bera (JB):  </th> <td>  52.555</td>\n",
       "</tr>\n",
       "<tr>\n",
       "  <th>Skew:</th>          <td> 0.607</td> <th>  Prob(JB):          </th> <td>3.87e-12</td>\n",
       "</tr>\n",
       "<tr>\n",
       "  <th>Kurtosis:</th>      <td> 4.923</td> <th>  Cond. No.          </th> <td>1.85e+17</td>\n",
       "</tr>\n",
       "</table><br/><br/>Warnings:<br/>[1] Standard Errors assume that the covariance matrix of the errors is correctly specified.<br/>[2] The smallest eigenvalue is 3.43e-30. This might indicate that there are<br/>strong multicollinearity problems or that the design matrix is singular."
      ],
      "text/plain": [
       "<class 'statsmodels.iolib.summary.Summary'>\n",
       "\"\"\"\n",
       "                            OLS Regression Results                            \n",
       "==============================================================================\n",
       "Dep. Variable:                    tip   R-squared:                       0.470\n",
       "Model:                            OLS   Adj. R-squared:                  0.452\n",
       "Method:                 Least Squares   F-statistic:                     26.06\n",
       "Date:                Mon, 25 Nov 2019   Prob (F-statistic):           1.20e-28\n",
       "Time:                        18:15:09   Log-Likelihood:                -347.48\n",
       "No. Observations:                 244   AIC:                             713.0\n",
       "Df Residuals:                     235   BIC:                             744.4\n",
       "Df Model:                           8                                         \n",
       "Covariance Type:            nonrobust                                         \n",
       "===============================================================================\n",
       "                  coef    std err          t      P>|t|      [0.025      0.975]\n",
       "-------------------------------------------------------------------------------\n",
       "const           0.6357      0.294      2.162      0.032       0.056       1.215\n",
       "total_bill      0.0945      0.010      9.841      0.000       0.076       0.113\n",
       "sex_male       -0.0324      0.142     -0.229      0.819      -0.311       0.247\n",
       "smoker_true    -0.0864      0.147     -0.589      0.556      -0.375       0.202\n",
       "time_dinner    -0.0681      0.445     -0.153      0.878      -0.944       0.808\n",
       "size            0.1760      0.090      1.966      0.051      -0.000       0.352\n",
       "day_Thur        0.0740      0.260      0.284      0.776      -0.438       0.586\n",
       "day_Fri         0.2362      0.208      1.134      0.258      -0.174       0.647\n",
       "day_Sat         0.1148      0.239      0.481      0.631      -0.355       0.585\n",
       "day_Sun         0.2107      0.245      0.860      0.390      -0.272       0.693\n",
       "==============================================================================\n",
       "Omnibus:                       27.860   Durbin-Watson:                   2.096\n",
       "Prob(Omnibus):                  0.000   Jarque-Bera (JB):               52.555\n",
       "Skew:                           0.607   Prob(JB):                     3.87e-12\n",
       "Kurtosis:                       4.923   Cond. No.                     1.85e+17\n",
       "==============================================================================\n",
       "\n",
       "Warnings:\n",
       "[1] Standard Errors assume that the covariance matrix of the errors is correctly specified.\n",
       "[2] The smallest eigenvalue is 3.43e-30. This might indicate that there are\n",
       "strong multicollinearity problems or that the design matrix is singular.\n",
       "\"\"\""
      ]
     },
     "execution_count": 84,
     "metadata": {},
     "output_type": "execute_result"
    }
   ],
   "source": [
    "x = sm.add_constant(tips[['total_bill', 'sex_male', 'smoker_true', 'time_dinner', 'size', 'day_Thur', 'day_Fri', 'day_Sat', 'day_Sun']])\n",
    "y = tips.tip\n",
    "\n",
    "lmtips = sm.OLS(y, x).fit()\n",
    "lmtips.summary()"
   ]
  },
  {
   "cell_type": "markdown",
   "metadata": {},
   "source": [
    "2) Provide a linear function like this one from the class notes:  \n",
    "    \n",
    "**Box(Rate, User) = -229.0106 + 54.9285Rate + .4472User**"
   ]
  },
  {
   "cell_type": "markdown",
   "metadata": {},
   "source": [
    "**Tips(total_bill, sex_male, smoker_true, time_dinner, size, day_Thur, day_Fri, day_Sat, day_Sun) = .6367 + 0.0945total_bill - 0.0324sex_male - 0.0864smoker_True  - 0.0681time_dinner + 0.1760size + 0.0740day_Thur + 0.2362day_Fri + 0.1148day_Sat + 0.2107day_Sun**"
   ]
  },
  {
   "cell_type": "markdown",
   "metadata": {},
   "source": [
    "3) Provide scatterplots of residuals against each predictor variable and the predicted values."
   ]
  },
  {
   "cell_type": "code",
   "execution_count": 86,
   "metadata": {},
   "outputs": [
    {
     "name": "stdout",
     "output_type": "stream",
     "text": [
      "All predictions: [2.73565486 2.25086733 3.25904369 3.33533199 3.80574011 3.83944008\n",
      " 1.92653073 3.98967441 2.51896426 2.49439764 2.06826124 4.81391647\n",
      " 2.55486932 3.19125921 2.53156293 3.13690928 2.2823634  2.81306502\n",
      " 2.90975712 3.12905065 2.69510912 2.95148426 2.524403   5.07856375\n",
      " 2.87463443 3.03669955 2.26519324 2.20094208 3.05227    2.89101258\n",
      " 1.90425288 3.08772254 2.45731722 3.34126307 2.68188094 3.45125134\n",
      " 2.71897704 2.80999993 2.94385612 4.13250265 2.69346555 2.74762281\n",
      " 2.41502855 2.01251391 4.32226868 2.82604703 3.19832583 4.51124269\n",
      " 3.97147571 2.80242528 2.28274674 2.10259192 4.77139731 2.03708053\n",
      " 3.86495157 2.93943144 4.85892875 3.52974474 1.9775276  5.91477376\n",
      " 2.832635   2.2203592  1.95674046 2.995645   2.83992041 3.07519305\n",
      " 2.58865416 1.0620177  2.9133741  2.33374361 2.13763578 2.82322811\n",
      " 3.48585557 3.3365661  2.42613651 1.9949604  2.6087008  3.95126032\n",
      " 3.17975401 2.66291009 2.77964883 2.60338327 1.83716284 4.03065679\n",
      " 2.53913211 4.70463712 2.26039544 2.75645222 3.36400367 3.0285748\n",
      " 3.77424059 3.24837311 1.61269325 2.61142091 3.30538067 5.18447906\n",
      " 3.61455755 2.17363071 3.02212402 2.30066844 2.14182049 2.52260312\n",
      " 5.30970096 3.06633327 3.01101108 2.36681406 2.8515324  3.29751107\n",
      " 2.72534496 2.30004365 2.32472006 1.5433817  4.87099201 3.36084348\n",
      " 3.73557356 2.7658907  4.27785978 2.06795731 2.23614418 3.6889018\n",
      " 2.13378285 2.32968631 2.37661446 2.5362975  2.24086853 4.58135148\n",
      " 1.83425904 2.43362202 2.13693282 3.36141523 2.83204183 2.9769223\n",
      " 2.11709055 2.22008139 2.78700342 1.86575511 2.03772146 2.39866183\n",
      " 2.45461353 2.30511969 2.71235869 4.97410207 5.44912554 4.32151221\n",
      " 2.6140922  1.85063719 2.99890049 2.18323145 1.95331267 1.73882717\n",
      " 2.42731186 2.33849408 2.90471741 3.76951969 3.3178718  4.47873377\n",
      " 6.35328678 3.84447978 2.39550164 3.00795442 3.48133432 2.29408518\n",
      " 2.837947   2.40274524 2.69837978 3.59069308 3.05942993 4.44604665\n",
      " 1.94855199 1.95233147 5.89237043 2.40933322 1.69650216 4.02088251\n",
      " 2.60074281 4.12009387 2.70184391 2.37964321 1.95098757 4.28355639\n",
      " 4.63743013 3.21585322 5.47244909 3.5527193  4.84291946 3.58079185\n",
      " 3.19468274 4.41752158 2.93484347 3.37011321 2.49397249 2.84704996\n",
      " 3.63003188 2.40548028 2.50941599 1.74355152 1.91981707 5.40058121\n",
      " 2.20359345 2.21934088 2.88666532 2.17902683 2.20359345 2.52484927\n",
      " 3.23462367 2.70745536 3.60389514 4.9269594  3.20869329 2.15358879\n",
      " 3.93176505 3.71374624 5.92044298 2.20177716 3.78562555 2.16681697\n",
      " 4.10327888 2.01059805 1.64682308 4.14775696 2.25404262 2.40553719\n",
      " 1.73978714 2.90982425 2.37309625 2.67482516 2.09089546 3.28614525\n",
      " 2.25668941 3.03798716 3.53611067 2.57398678 2.09889611 2.01952703\n",
      " 2.38287685 1.95338612 2.10602993 4.01750206 4.59580434 3.92085176\n",
      " 3.51609141 3.05751408 2.68566042 2.76800806]\n"
     ]
    },
    {
     "ename": "ValueError",
     "evalue": "shapes (1,3) and (10,) not aligned: 3 (dim 1) != 10 (dim 0)",
     "output_type": "error",
     "traceback": [
      "\u001b[0;31m---------------------------------------------------------------------------\u001b[0m",
      "\u001b[0;31mValueError\u001b[0m                                Traceback (most recent call last)",
      "\u001b[0;32m<ipython-input-86-cf92920b74bd>\u001b[0m in \u001b[0;36m<module>\u001b[0;34m\u001b[0m\n\u001b[1;32m      2\u001b[0m \u001b[0mprint\u001b[0m\u001b[0;34m(\u001b[0m\u001b[0;34m\"All predictions:\"\u001b[0m\u001b[0;34m,\u001b[0m \u001b[0mlmtips\u001b[0m\u001b[0;34m.\u001b[0m\u001b[0mpredict\u001b[0m\u001b[0;34m(\u001b[0m\u001b[0;34m)\u001b[0m\u001b[0;34m)\u001b[0m\u001b[0;34m\u001b[0m\u001b[0;34m\u001b[0m\u001b[0m\n\u001b[1;32m      3\u001b[0m \u001b[0;34m\u001b[0m\u001b[0m\n\u001b[0;32m----> 4\u001b[0;31m \u001b[0mpredict\u001b[0m \u001b[0;34m=\u001b[0m \u001b[0mlmtips\u001b[0m\u001b[0;34m.\u001b[0m\u001b[0mget_prediction\u001b[0m\u001b[0;34m(\u001b[0m\u001b[0;34m(\u001b[0m\u001b[0;36m1\u001b[0m\u001b[0;34m,\u001b[0m \u001b[0;36m10\u001b[0m\u001b[0;34m,\u001b[0m \u001b[0;36m400\u001b[0m\u001b[0;34m)\u001b[0m\u001b[0;34m)\u001b[0m\u001b[0;34m\u001b[0m\u001b[0;34m\u001b[0m\u001b[0m\n\u001b[0m\u001b[1;32m      5\u001b[0m \u001b[0mprint\u001b[0m\u001b[0;34m(\u001b[0m\u001b[0;34m)\u001b[0m\u001b[0;34m\u001b[0m\u001b[0;34m\u001b[0m\u001b[0m\n\u001b[1;32m      6\u001b[0m \u001b[0mprint\u001b[0m\u001b[0;34m(\u001b[0m\u001b[0;34m\"95% confidence interval:\"\u001b[0m\u001b[0;34m,\u001b[0m \u001b[0mpredict\u001b[0m\u001b[0;34m.\u001b[0m\u001b[0mconf_int\u001b[0m\u001b[0;34m(\u001b[0m\u001b[0malpha\u001b[0m\u001b[0;34m=\u001b[0m\u001b[0;36m.05\u001b[0m\u001b[0;34m)\u001b[0m\u001b[0;34m)\u001b[0m\u001b[0;34m\u001b[0m\u001b[0;34m\u001b[0m\u001b[0m\n",
      "\u001b[0;32m~/opt/anaconda3/lib/python3.7/site-packages/statsmodels/regression/linear_model.py\u001b[0m in \u001b[0;36mget_prediction\u001b[0;34m(self, exog, transform, weights, row_labels, **kwds)\u001b[0m\n\u001b[1;32m   2418\u001b[0m         return pred.get_prediction(\n\u001b[1;32m   2419\u001b[0m             \u001b[0mself\u001b[0m\u001b[0;34m,\u001b[0m \u001b[0mexog\u001b[0m\u001b[0;34m=\u001b[0m\u001b[0mexog\u001b[0m\u001b[0;34m,\u001b[0m \u001b[0mtransform\u001b[0m\u001b[0;34m=\u001b[0m\u001b[0mtransform\u001b[0m\u001b[0;34m,\u001b[0m \u001b[0mweights\u001b[0m\u001b[0;34m=\u001b[0m\u001b[0mweights\u001b[0m\u001b[0;34m,\u001b[0m\u001b[0;34m\u001b[0m\u001b[0;34m\u001b[0m\u001b[0m\n\u001b[0;32m-> 2420\u001b[0;31m             row_labels=row_labels, **kwds)\n\u001b[0m\u001b[1;32m   2421\u001b[0m \u001b[0;34m\u001b[0m\u001b[0m\n\u001b[1;32m   2422\u001b[0m     \u001b[0mget_prediction\u001b[0m\u001b[0;34m.\u001b[0m\u001b[0m__doc__\u001b[0m \u001b[0;34m=\u001b[0m \u001b[0mpred\u001b[0m\u001b[0;34m.\u001b[0m\u001b[0mget_prediction\u001b[0m\u001b[0;34m.\u001b[0m\u001b[0m__doc__\u001b[0m\u001b[0;34m\u001b[0m\u001b[0;34m\u001b[0m\u001b[0m\n",
      "\u001b[0;32m~/opt/anaconda3/lib/python3.7/site-packages/statsmodels/regression/_prediction.py\u001b[0m in \u001b[0;36mget_prediction\u001b[0;34m(self, exog, transform, weights, row_labels, pred_kwds)\u001b[0m\n\u001b[1;32m    159\u001b[0m     \u001b[0;32mif\u001b[0m \u001b[0mpred_kwds\u001b[0m \u001b[0;32mis\u001b[0m \u001b[0;32mNone\u001b[0m\u001b[0;34m:\u001b[0m\u001b[0;34m\u001b[0m\u001b[0;34m\u001b[0m\u001b[0m\n\u001b[1;32m    160\u001b[0m         \u001b[0mpred_kwds\u001b[0m \u001b[0;34m=\u001b[0m \u001b[0;34m{\u001b[0m\u001b[0;34m}\u001b[0m\u001b[0;34m\u001b[0m\u001b[0;34m\u001b[0m\u001b[0m\n\u001b[0;32m--> 161\u001b[0;31m     \u001b[0mpredicted_mean\u001b[0m \u001b[0;34m=\u001b[0m \u001b[0mself\u001b[0m\u001b[0;34m.\u001b[0m\u001b[0mmodel\u001b[0m\u001b[0;34m.\u001b[0m\u001b[0mpredict\u001b[0m\u001b[0;34m(\u001b[0m\u001b[0mself\u001b[0m\u001b[0;34m.\u001b[0m\u001b[0mparams\u001b[0m\u001b[0;34m,\u001b[0m \u001b[0mexog\u001b[0m\u001b[0;34m,\u001b[0m \u001b[0;34m**\u001b[0m\u001b[0mpred_kwds\u001b[0m\u001b[0;34m)\u001b[0m\u001b[0;34m\u001b[0m\u001b[0;34m\u001b[0m\u001b[0m\n\u001b[0m\u001b[1;32m    162\u001b[0m \u001b[0;34m\u001b[0m\u001b[0m\n\u001b[1;32m    163\u001b[0m     \u001b[0mcovb\u001b[0m \u001b[0;34m=\u001b[0m \u001b[0mself\u001b[0m\u001b[0;34m.\u001b[0m\u001b[0mcov_params\u001b[0m\u001b[0;34m(\u001b[0m\u001b[0;34m)\u001b[0m\u001b[0;34m\u001b[0m\u001b[0;34m\u001b[0m\u001b[0m\n",
      "\u001b[0;32m~/opt/anaconda3/lib/python3.7/site-packages/statsmodels/regression/linear_model.py\u001b[0m in \u001b[0;36mpredict\u001b[0;34m(self, params, exog)\u001b[0m\n\u001b[1;32m    362\u001b[0m             \u001b[0mexog\u001b[0m \u001b[0;34m=\u001b[0m \u001b[0mself\u001b[0m\u001b[0;34m.\u001b[0m\u001b[0mexog\u001b[0m\u001b[0;34m\u001b[0m\u001b[0;34m\u001b[0m\u001b[0m\n\u001b[1;32m    363\u001b[0m \u001b[0;34m\u001b[0m\u001b[0m\n\u001b[0;32m--> 364\u001b[0;31m         \u001b[0;32mreturn\u001b[0m \u001b[0mnp\u001b[0m\u001b[0;34m.\u001b[0m\u001b[0mdot\u001b[0m\u001b[0;34m(\u001b[0m\u001b[0mexog\u001b[0m\u001b[0;34m,\u001b[0m \u001b[0mparams\u001b[0m\u001b[0;34m)\u001b[0m\u001b[0;34m\u001b[0m\u001b[0;34m\u001b[0m\u001b[0m\n\u001b[0m\u001b[1;32m    365\u001b[0m \u001b[0;34m\u001b[0m\u001b[0m\n\u001b[1;32m    366\u001b[0m     \u001b[0;32mdef\u001b[0m \u001b[0mget_distribution\u001b[0m\u001b[0;34m(\u001b[0m\u001b[0mself\u001b[0m\u001b[0;34m,\u001b[0m \u001b[0mparams\u001b[0m\u001b[0;34m,\u001b[0m \u001b[0mscale\u001b[0m\u001b[0;34m,\u001b[0m \u001b[0mexog\u001b[0m\u001b[0;34m=\u001b[0m\u001b[0;32mNone\u001b[0m\u001b[0;34m,\u001b[0m \u001b[0mdist_class\u001b[0m\u001b[0;34m=\u001b[0m\u001b[0;32mNone\u001b[0m\u001b[0;34m)\u001b[0m\u001b[0;34m:\u001b[0m\u001b[0;34m\u001b[0m\u001b[0;34m\u001b[0m\u001b[0m\n",
      "\u001b[0;32m<__array_function__ internals>\u001b[0m in \u001b[0;36mdot\u001b[0;34m(*args, **kwargs)\u001b[0m\n",
      "\u001b[0;31mValueError\u001b[0m: shapes (1,3) and (10,) not aligned: 3 (dim 1) != 10 (dim 0)"
     ]
    }
   ],
   "source": [
    "dir(lmtips)\n",
    "print(\"All predictions:\", lmtips.predict())\n",
    "\n",
    "predict = lmtips.get_prediction((1, 10, 400))\n",
    "print()\n",
    "print(\"95% confidence interval:\", predict.conf_int(alpha=.05))\n",
    "\n",
    "predict.summary_frame()"
   ]
  },
  {
   "cell_type": "code",
   "execution_count": 91,
   "metadata": {},
   "outputs": [
    {
     "data": {
      "image/png": "[encoded data removed]",
      "text/plain": [
       "<Figure size 432x144 with 1 Axes>"
      ]
     },
     "metadata": {},
     "output_type": "display_data"
    },
    {
     "data": {
      "image/png": "[encoded data removed]",
      "text/plain": [
       "<Figure size 432x144 with 1 Axes>"
      ]
     },
     "metadata": {},
     "output_type": "display_data"
    },
    {
     "data": {
      "image/png": "[encoded data removed]",
      "text/plain": [
       "<Figure size 432x144 with 1 Axes>"
      ]
     },
     "metadata": {},
     "output_type": "display_data"
    },
    {
     "data": {
      "image/png": "[encoded data removed]",
      "text/plain": [
       "<Figure size 432x144 with 1 Axes>"
      ]
     },
     "metadata": {},
     "output_type": "display_data"
    },
    {
     "data": {
      "image/png": "[encoded data removed]",
      "text/plain": [
       "<Figure size 432x144 with 1 Axes>"
      ]
     },
     "metadata": {},
     "output_type": "display_data"
    },
    {
     "data": {
      "image/png": "[encoded data removed]",
      "text/plain": [
       "<Figure size 432x144 with 1 Axes>"
      ]
     },
     "metadata": {},
     "output_type": "display_data"
    },
    {
     "data": {
      "image/png": "[encoded data removed]",
      "text/plain": [
       "<Figure size 432x144 with 1 Axes>"
      ]
     },
     "metadata": {},
     "output_type": "display_data"
    },
    {
     "data": {
      "image/png": "[encoded data removed]",
      "text/plain": [
       "<Figure size 432x144 with 1 Axes>"
      ]
     },
     "metadata": {},
     "output_type": "display_data"
    },
    {
     "data": {
      "image/png": "[encoded data removed]",
      "text/plain": [
       "<Figure size 432x144 with 1 Axes>"
      ]
     },
     "metadata": {},
     "output_type": "display_data"
    },
    {
     "data": {
      "image/png": "[encoded data removed]",
      "text/plain": [
       "<Figure size 432x144 with 1 Axes>"
      ]
     },
     "metadata": {},
     "output_type": "display_data"
    },
    {
     "name": "stdout",
     "output_type": "stream",
     "text": [
      "4.133305719547099e-15\n"
     ]
    }
   ],
   "source": [
    "for x in ('total_bill', 'sex_male', 'smoker_true', 'time_dinner', 'size', 'day_Thur', 'day_Fri', 'day_Sat', 'day_Sun'):\n",
    "    plt.figure(figsize=(6,2))\n",
    "    sns.scatterplot(tips[x], lmtips.resid)\n",
    "    plt.title(\"Residuals by %s\" % x)\n",
    "    plt.ylim(-10, 10)\n",
    "    #Put a horizontal line through the mean of the predictions.\n",
    "    plt.axhline(np.mean(lmtips.resid))\n",
    "    plt.show()\n",
    "\n",
    "plt.figure(figsize=(6,2))\n",
    "sns.scatterplot(lmtips.predict(), lmtips.resid)\n",
    "plt.title(\"Residuals by Predicted Value\")\n",
    "plt.ylim(-10, 10)\n",
    "plt.axhline(np.mean(lmtips.resid))\n",
    "plt.show()\n",
    "\n",
    "print(np.mean(lmtips.resid))"
   ]
  },
  {
   "cell_type": "markdown",
   "metadata": {},
   "source": [
    "4) Does your model meet the four assumptions expected of a linear model? Explain:"
   ]
  },
  {
   "cell_type": "markdown",
   "metadata": {},
   "source": [
    "The four assumptions expected of a linear model are met.\n",
    "The residuals...\n",
    "1.    have a mean close to zero across the distribution;\n",
    "2.    have constant variance (the vertical spread of the points remains approximately constant across the graph);\n",
    "3.    have an approximately normal distribution--points tend to be closer to zero on the y axis, with gradually fewer \n",
    "      appearing farther away;\n",
    "4.    appear independent of one another--they seem to be distributed randomly. You shouldn't see a relationship between\n",
    "      your input variable(s) and the residuals.\n"
   ]
  }
 ],
 "metadata": {
  "kernelspec": {
   "display_name": "Python 3",
   "language": "python",
   "name": "python3"
  },
  "language_info": {
   "codemirror_mode": {
    "name": "ipython",
    "version": 3
   },
   "file_extension": ".py",
   "mimetype": "text/x-python",
   "name": "python",
   "nbconvert_exporter": "python",
   "pygments_lexer": "ipython3",
   "version": "3.7.4"
  }
 },
 "nbformat": 4,
 "nbformat_minor": 4
}
